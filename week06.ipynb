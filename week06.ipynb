{
  "cells": [
    {
      "cell_type": "markdown",
      "metadata": {
        "id": "view-in-github",
        "colab_type": "text"
      },
      "source": [
        "<a href=\"https://colab.research.google.com/github/kangwonlee/pytorch-ibm-coursera/blob/main/week06.ipynb\" target=\"_parent\"><img src=\"https://colab.research.google.com/assets/colab-badge.svg\" alt=\"Open In Colab\"/></a>"
      ]
    },
    {
      "cell_type": "markdown",
      "metadata": {
        "id": "cAaCIdxrOxyY"
      },
      "source": [
        "# Hello PyTorch 👋🏻\n",
        "\n"
      ]
    },
    {
      "cell_type": "markdown",
      "source": [
        "references\n",
        "* https://www.coursera.org/learn/deep-neural-networks-with-pytorch/\n",
        "* https://github.com/damounayman/Deep-Neural-Networks-with-PyTorch/blob/main/Week1/1D_tensors.ipynb\n",
        "\n"
      ],
      "metadata": {
        "id": "k6sg6VomOxyb"
      }
    },
    {
      "cell_type": "markdown",
      "source": [
        "## week 6\n",
        "\n"
      ],
      "metadata": {
        "id": "y50kUqFgOxyc"
      }
    },
    {
      "cell_type": "markdown",
      "source": [
        "### 9.1 Convolution\n",
        "\n"
      ],
      "metadata": {
        "id": "rrx5H9GmOxyc"
      }
    },
    {
      "cell_type": "markdown",
      "source": [
        "### 9.2 Activation Functions and Max Polling\n",
        "\n"
      ],
      "metadata": {
        "id": "gtNw9QphOxyc"
      }
    },
    {
      "cell_type": "markdown",
      "source": [
        "### 9.3 Multiple Input and Output Channels\n",
        "\n"
      ],
      "metadata": {
        "id": "k6snkBsnOxyd"
      }
    },
    {
      "cell_type": "markdown",
      "source": [
        "### 9.4 Convolutional Neural Network\n",
        "\n"
      ],
      "metadata": {
        "id": "oY0pVcccOxyd"
      }
    },
    {
      "cell_type": "code",
      "source": [
        "import os\n",
        "from typing import Dict, List\n",
        "\n",
        "import matplotlib.pyplot as plt\n",
        "import numpy as np\n",
        "import torch\n",
        "import torch.nn\n",
        "import torch.optim\n",
        "import torch.utils.data\n",
        "\n"
      ],
      "metadata": {
        "id": "kMyztBAKOxyd"
      },
      "execution_count": null,
      "outputs": []
    },
    {
      "cell_type": "code",
      "source": [
        "torch.manual_seed(4)\n",
        "\n"
      ],
      "metadata": {
        "id": "AH3Hk01-Oxye"
      },
      "execution_count": null,
      "outputs": []
    },
    {
      "cell_type": "markdown",
      "source": [
        "CNN constructor class\n",
        "\n"
      ],
      "metadata": {
        "id": "rZ-u41G8Oxye"
      }
    },
    {
      "cell_type": "code",
      "source": [
        "class CNN(torch.nn.Module):\n",
        "  def __init__(self, out_1:int=2, out_2:int=1):\n",
        "    super(CNN, self).__init__()\n",
        "    self.cnn1 = torch.nn.Conv2d(\n",
        "      in_channels=1,      # grayscale\n",
        "      out_channels=out_1,\n",
        "      kernel_size=2, padding=0\n",
        "    )\n",
        "\n",
        "    self.maxpool1 = torch.nn.MaxPool2d(kernel_size=2, stride=1)\n",
        "\n",
        "    self.cnn2 = torch.nn.Conv2d(\n",
        "      in_channels=out_1,\n",
        "      out_channels=out_2,\n",
        "      kernel_size=2, padding=0\n",
        "    )\n",
        "\n",
        "    self.maxpool2 = torch.nn.MaxPool2d(kernel_size=2, stride=1)\n",
        "\n",
        "    # TODO : check M - K + 1\n",
        "    self.fc1 = torch.nn.Linear(\n",
        "      out_2*7*7,\n",
        "      2, # one for each class\n",
        "    )\n",
        "\n",
        "  def forward(self, x:torch.tensor):\n",
        "    x = self.cnn1(x)\n",
        "    # TODO : is it common to use maxpooling after activation function?\n",
        "    x = torch.relu(x)\n",
        "    x = self.maxpool1(x)\n",
        "\n",
        "    x = self.cnn2(x)\n",
        "    x = torch.relu(x)\n",
        "    x = self.maxpool2(x)\n",
        "\n",
        "    x = x.view(x.size(0), -1)\n",
        "    x = self.fc1(x)\n",
        "\n",
        "    return x\n",
        "\n"
      ],
      "metadata": {
        "id": "lOpe80KCOxyf"
      },
      "execution_count": null,
      "outputs": []
    },
    {
      "cell_type": "code",
      "source": [
        "class Data(torch.utils.data.Dataset):\n",
        "  def __init__(self, N_images:int=100, offset=0, p:float=0.9, train:bool=False):\n",
        "    '''\n",
        "    p: probability of white pixel\n",
        "    N_images : # images\n",
        "    offset : int\n",
        "    '''\n",
        "    if train:\n",
        "      np.random.seed(1)\n",
        "\n",
        "    N_images = 2 * (N_images // 2)\n",
        "    assert 0 == (N_images % 2), f'N_images = {N_images}'\n",
        "\n",
        "    images = np.zeros((N_images, 1, 11, 11))\n",
        "\n",
        "    start1 = 3\n",
        "    start2 = 1\n",
        "\n",
        "    self.y = torch.zeros(N_images).type(torch.long)\n",
        "\n",
        "    for n in range(N_images):\n",
        "      if 0 < offset:\n",
        "        low = int(\n",
        "            np.random.randint(\n",
        "                low=start1,\n",
        "                high=start1+offset,\n",
        "                size=1\n",
        "            )\n",
        "        )\n",
        "        high = int(\n",
        "            np.random.randint(\n",
        "                low=start2,\n",
        "                high=start2+offset,\n",
        "                size=1\n",
        "            )\n",
        "        )\n",
        "      else:\n",
        "        low = 4\n",
        "        high = 1\n",
        "      # end if offset block\n",
        "\n",
        "      if n <= (N_images // 2):\n",
        "        self.y[n] = 0\n",
        "        images[\n",
        "            n, 0, high:high+9, low:low+3\n",
        "        ] = np.random.binomial(1, p, (9, 3))\n",
        "      elif n > (N_images // 2):\n",
        "        self.y[n] = 1\n",
        "        images[\n",
        "            n, 0, low:low+3, high:high+9\n",
        "        ] = np.random.binomial(1, p, (3, 9))\n",
        "      # end if n block\n",
        "    # end for loop\n",
        "\n",
        "    self.x = torch.from_numpy(images).type(torch.FloatTensor)\n",
        "    self.len = self.x.shape[0]\n",
        "    del images\n",
        "    np.random.seed(0)\n",
        "  # end __init__()\n",
        "\n",
        "  def __getitem__(self, index:int):\n",
        "    return self.x[index], self.y[index]\n",
        "\n",
        "  def __len__(self):\n",
        "    return self.len\n",
        "\n"
      ],
      "metadata": {
        "id": "OUcQh3B0Oxyf"
      },
      "execution_count": null,
      "outputs": []
    },
    {
      "cell_type": "code",
      "source": [
        "N_images = 10000\n",
        "train_dataset = Data(N_images=N_images, train=True)\n",
        "validation_dataset = Data(N_images=N_images, train=False)\n",
        "\n",
        "model = CNN(2, 1)\n",
        "optimizer = torch.optim.SGD(model.parameters(), lr=0.01)\n",
        "\n",
        "criterion = torch.nn.CrossEntropyLoss()\n",
        "train_loader = torch.utils.data.DataLoader(\n",
        "  dataset=train_dataset,\n",
        "  batch_size=100,\n",
        ")\n",
        "\n",
        "validation_loader = torch.utils.data.DataLoader(\n",
        "  dataset=validation_dataset,\n",
        "  batch_size=5000,\n",
        ")\n",
        "\n"
      ],
      "metadata": {
        "id": "FJ4GUCJJOxyf"
      },
      "execution_count": null,
      "outputs": []
    },
    {
      "cell_type": "code",
      "source": [
        "def train_validate(\n",
        "    model, optimizer, criterion,\n",
        "    train_loader,\n",
        "    validation_loader=[],\n",
        "    n_epoch:int=1000,\n",
        "  ) -> Dict[str, List[float]]:\n",
        "  record = {\n",
        "    'training_loss': [],\n",
        "    'validation_accuracy': [],\n",
        "  }\n",
        "  if os.getenv('CI', False):\n",
        "    n_epoch = 1\n",
        "\n",
        "  for epoch in range(n_epoch):\n",
        "    total = 0.0\n",
        "\n",
        "    for x, y in train_loader:\n",
        "      optimizer.zero_grad()\n",
        "\n",
        "      yhat = model(x)\n",
        "\n",
        "      loss = criterion(yhat, y)\n",
        "      optimizer.zero_grad()\n",
        "      loss.backward()\n",
        "\n",
        "      optimizer.step()\n",
        "\n",
        "      total += loss.item()\n",
        "\n",
        "      record['training_loss'].append(loss.item())\n",
        "\n",
        "    # end train_loader loop\n",
        "\n",
        "    correct = 0\n",
        "    population = 0\n",
        "    for x, y in validation_loader:\n",
        "      z = model(x)\n",
        "      _, label = torch.max(z, 1)\n",
        "      correct += (label==y).sum().item()\n",
        "      population += len(y)\n",
        "    # end validation_loader loop\n",
        "\n",
        "    if population:\n",
        "      accuracy = 100.0 * (correct / population)\n",
        "      record['validation_accuracy'].append(accuracy)\n",
        "\n",
        "  # end epoch loop\n",
        "  return record\n",
        "\n"
      ],
      "metadata": {
        "id": "yANRRIzgOxyg"
      },
      "execution_count": null,
      "outputs": []
    },
    {
      "cell_type": "code",
      "source": [
        "n_epoch = 10\n",
        "\n",
        "result = train_validate(\n",
        "  model, optimizer, criterion,\n",
        "  train_loader=train_loader,\n",
        "  validation_loader=validation_loader,\n",
        "  n_epoch=n_epoch,\n",
        ")\n",
        "result['label'] = 'CNN'\n",
        "\n"
      ],
      "metadata": {
        "id": "r8upi7u5Oxyg"
      },
      "execution_count": null,
      "outputs": []
    },
    {
      "cell_type": "code",
      "source": [
        "def plot_result(d_list:Dict[str,List[float]]):\n",
        "  _, axs = plt.subplots(2, 1)\n",
        "\n",
        "  for d in d_list:\n",
        "    try:\n",
        "      axs[0].plot(d['training_loss'], label=d['label'])\n",
        "    except TypeError as e:\n",
        "      print(d)\n",
        "      raise e\n",
        "    axs[1].plot(d['validation_accuracy'], label=d['label'])\n",
        "\n",
        "  axs[0].set_xlabel('iter')\n",
        "  axs[0].set_ylabel('loss')\n",
        "  axs[0].legend(loc=0)\n",
        "  axs[0].grid(True)\n",
        "\n",
        "  axs[1].set_xlabel('epoch')\n",
        "  axs[1].set_ylabel('accuracy')\n",
        "  axs[1].legend(loc=0)\n",
        "  axs[1].grid(True)\n",
        "\n"
      ],
      "metadata": {
        "id": "452ihTObOxyg"
      },
      "execution_count": null,
      "outputs": []
    },
    {
      "cell_type": "code",
      "source": [
        "plot_result([result])\n",
        "\n"
      ],
      "metadata": {
        "id": "z4FS8YiGOxyg"
      },
      "execution_count": null,
      "outputs": []
    },
    {
      "cell_type": "markdown",
      "source": [
        "#### GPUs in PyTorch\n",
        "\n"
      ],
      "metadata": {
        "id": "_g-mave9O4-d"
      }
    },
    {
      "cell_type": "markdown",
      "source": [
        "Runtime / Change runtime type / GPU\n",
        "\n"
      ],
      "metadata": {
        "id": "JAC2O0pGPU7Q"
      }
    },
    {
      "cell_type": "code",
      "source": [
        "import torch\n",
        "import torch.cuda\n",
        "\n",
        "if not torch.cuda.is_available():\n",
        "  print('CUDA not available in torch')\n",
        "\n"
      ],
      "metadata": {
        "id": "i-bdhzDIO8ay"
      },
      "execution_count": null,
      "outputs": []
    },
    {
      "cell_type": "markdown",
      "source": [
        "### 9.5 Torch-Vision Models\n",
        "\n"
      ],
      "metadata": {
        "id": "pnQbW_saOxyh"
      }
    },
    {
      "cell_type": "code",
      "source": [],
      "metadata": {
        "id": "4ooaxn4GOxyh"
      },
      "execution_count": null,
      "outputs": []
    }
  ],
  "metadata": {
    "language_info": {
      "name": "python"
    },
    "colab": {
      "provenance": [],
      "gpuType": "T4",
      "include_colab_link": true
    },
    "kernelspec": {
      "name": "python3",
      "display_name": "Python 3"
    },
    "accelerator": "GPU"
  },
  "nbformat": 4,
  "nbformat_minor": 0
}