{
 "cells": [
  {
   "cell_type": "markdown",
   "metadata": {
    "id": "view-in-github",
    "colab_type": "text"
   },
   "source": [
    "<a href=\"https://colab.research.google.com/github/kangwonlee/pytorch-ibm-coursera/blob/main/week06.ipynb\" target=\"_parent\"><img src=\"https://colab.research.google.com/assets/colab-badge.svg\" alt=\"Open In Colab\"/></a>\n"
   ]
  },
  {
   "cell_type": "markdown",
   "metadata": {},
   "source": [
    "# Hello PyTorch 👋🏻\n",
    "\n"
   ]
  },
  {
   "cell_type": "markdown",
   "source": [
    "references\n",
    "* https://www.coursera.org/learn/deep-neural-networks-with-pytorch/\n",
    "* https://github.com/damounayman/Deep-Neural-Networks-with-PyTorch/blob/main/Week1/1D_tensors.ipynb\n",
    "\n"
   ],
   "metadata": {}
  },
  {
   "cell_type": "markdown",
   "source": [
    "## week 6\n",
    "\n"
   ],
   "metadata": {}
  },
  {
   "cell_type": "markdown",
   "source": [
    "### 9.1 Convolution\n",
    "\n"
   ],
   "metadata": {}
  },
  {
   "cell_type": "markdown",
   "source": [
    "### 9.2 Activation Functions and Max Polling\n",
    "\n"
   ],
   "metadata": {}
  },
  {
   "cell_type": "markdown",
   "source": [
    "### 9.3 Multiple Input and Output Channels\n",
    "\n"
   ],
   "metadata": {}
  },
  {
   "cell_type": "markdown",
   "source": [
    "### 9.4 Convolutional Neural Network\n",
    "\n"
   ],
   "metadata": {}
  },
  {
   "cell_type": "code",
   "source": [
    "import numpy as np\n",
    "import torch\n",
    "import torch.nn\n",
    "import torch.utils.data\n",
    "\n"
   ],
   "metadata": {},
   "execution_count": null,
   "outputs": []
  },
  {
   "cell_type": "code",
   "source": [
    "torch.manual_seed(4)\n",
    "\n"
   ],
   "metadata": {},
   "execution_count": null,
   "outputs": []
  },
  {
   "cell_type": "markdown",
   "source": [
    "CNN constructor class\n",
    "\n"
   ],
   "metadata": {}
  },
  {
   "cell_type": "code",
   "source": [
    "class CNN(torch.nn.Module):\n",
    "  def __init__(self, out_1=2, out_2=1):\n",
    "    super(CNN, self).__init__()\n",
    "    self.cnn1 = torch.nn.Conv2d(\n",
    "      in_channels=1,      # grayscale\n",
    "      out_channels=out_1,\n",
    "      kernel_size=2, padding=0\n",
    "    )\n",
    "\n",
    "    self.maxpool1 = torch.nn.MaxPool2d(kernel_size=2, stride=1)\n",
    "\n",
    "    self.cnn2 = torch.nn.Conv2d(\n",
    "      in_channels=out_1,\n",
    "      out_channels=out_2,\n",
    "      kernel_size=2, padding=0\n",
    "    )\n",
    "\n",
    "    self.maxpool2 = torch.nn.MaxPool2d(kernel_size=2, stride=1)\n",
    "\n",
    "    self.fc1 = torch.nn.Linear(\n",
    "      out_2*7*7,\n",
    "      2, # one for each class\n",
    "    )\n",
    "\n",
    "  def forward(self, x):\n",
    "    x = self.cnn1(x)\n",
    "    # TODO : is it common to use maxpooling after activation function?\n",
    "    x = torch.relu(x)\n",
    "    x = self.maxpool1(x)\n",
    "\n",
    "    x = self.cnn2(x)\n",
    "    x = torch.relu(x)\n",
    "    x = self.maxpool2(x)\n",
    "\n",
    "    x = x.view(x.size(0), -1)\n",
    "    x = self.fc1(x)\n",
    "\n",
    "    return x\n",
    "\n"
   ],
   "metadata": {},
   "execution_count": null,
   "outputs": []
  },
  {
   "cell_type": "code",
   "source": [
    "class Data(torch.utils.data.Dataset):\n",
    "  def __init__(self, N_images:int=100, offset=0, p:float=0.9, train:bool=False):\n",
    "    '''\n",
    "    p: probability of white pixel\n",
    "    N_images : # images\n",
    "    offset : int\n",
    "    '''\n",
    "    if train:\n",
    "      np.random.seed(1)\n",
    "\n",
    "    N_images = 2 * (N_images // 2)\n",
    "    assert 0 == (N_images % 2), f'N_images = {N_images}'\n",
    "\n",
    "    images = np.zeros((N_images, 1, 11, 11))\n",
    "\n",
    "    start1 = 3\n",
    "    start2 = 1\n",
    "\n",
    "    self.y = torch.zeros(N_images).type(torch.long)\n",
    "\n",
    "    for n in range(N_images):\n",
    "      if 0 < offset:\n",
    "        low = int(\n",
    "            np.random.randint(\n",
    "                low=start1,\n",
    "                high=start1+offset,\n",
    "                size=1\n",
    "            )\n",
    "        )\n",
    "        high = int(\n",
    "            np.random.randint(\n",
    "                low=start2,\n",
    "                high=start2+offset,\n",
    "                size=1\n",
    "            )\n",
    "        )\n",
    "      else:\n",
    "        low = 4\n",
    "        high = 1\n",
    "      # end if offset block\n",
    "\n",
    "      if n <= (N_images // 2):\n",
    "        self.y[n] = 0\n",
    "        images[\n",
    "            n, 0, high:high+9, low:low+3\n",
    "        ] = np.random.binomial(1, p, (9, 3))\n",
    "      elif n > (N_images // 2):\n",
    "        self.y[n] = 1\n",
    "        images[\n",
    "            n, 0, low:low+3, high:high+9\n",
    "        ] = np.random.binomial(1, p, (3, 9))\n",
    "      # end if n block\n",
    "    # end for loop\n",
    "\n",
    "    self.x = torch.from_numpy(images).type(torch.FloatTensor)\n",
    "    self.len = self.x.shape[0]\n",
    "    del images\n",
    "    np.random.seed(0)\n",
    "  # end __init__()\n",
    "\n",
    "  def __getitem__(self, index:int):\n",
    "    return self.x[index], self.y[index]\n",
    "\n",
    "  def __len__(self):\n",
    "    return self.len\n",
    "\n"
   ],
   "metadata": {},
   "execution_count": null,
   "outputs": []
  },
  {
   "cell_type": "code",
   "source": [
    "N_images = 10000\n",
    "train_dataset = Data(N_images=N_images)\n",
    "\n"
   ],
   "metadata": {},
   "execution_count": null,
   "outputs": []
  },
  {
   "cell_type": "code",
   "source": [
    "model = CNN(2, 1)\n",
    "\n"
   ],
   "metadata": {},
   "execution_count": null,
   "outputs": []
  },
  {
   "cell_type": "markdown",
   "source": [
    "### 9.5 Torch-Vision Models\n",
    "\n"
   ],
   "metadata": {}
  },
  {
   "cell_type": "code",
   "source": [],
   "metadata": {},
   "execution_count": null,
   "outputs": []
  }
 ],
 "metadata": {
  "language_info": {
   "name": "python"
  },
  "colab": {
   "provenance": [],
   "include_colab_link": true
  },
  "kernelspec": {
   "name": "python3",
   "display_name": "Python 3"
  }
 },
 "nbformat": 4,
 "nbformat_minor": 0
}