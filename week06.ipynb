{
 "cells": [
  {
   "cell_type": "markdown",
   "metadata": {
    "id": "view-in-github",
    "colab_type": "text"
   },
   "source": [
    "<a href=\"https://colab.research.google.com/github/kangwonlee/pytorch-ibm-coursera/blob/main/week06.ipynb\" target=\"_parent\"><img src=\"https://colab.research.google.com/assets/colab-badge.svg\" alt=\"Open In Colab\"/></a>\n"
   ]
  },
  {
   "cell_type": "markdown",
   "metadata": {},
   "source": [
    "# Hello PyTorch 👋🏻\n",
    "\n"
   ]
  },
  {
   "cell_type": "markdown",
   "source": [
    "references\n",
    "* https://www.coursera.org/learn/deep-neural-networks-with-pytorch/\n",
    "* https://github.com/damounayman/Deep-Neural-Networks-with-PyTorch/blob/main/Week1/1D_tensors.ipynb\n",
    "\n"
   ],
   "metadata": {}
  },
  {
   "cell_type": "markdown",
   "source": [
    "## week 6\n",
    "\n"
   ],
   "metadata": {}
  },
  {
   "cell_type": "markdown",
   "source": [
    "### 9.1 Convolution\n",
    "\n"
   ],
   "metadata": {}
  },
  {
   "cell_type": "markdown",
   "source": [
    "### 9.2 Activation Functions and Max Polling\n",
    "\n"
   ],
   "metadata": {}
  },
  {
   "cell_type": "markdown",
   "source": [
    "### 9.3 Multiple Input and Output Channels\n",
    "\n"
   ],
   "metadata": {}
  },
  {
   "cell_type": "markdown",
   "source": [
    "### 9.4 Convolutional Neural Network\n",
    "\n"
   ],
   "metadata": {}
  },
  {
   "cell_type": "code",
   "source": [
    "import torch\n",
    "import torch.nn\n",
    "\n"
   ],
   "metadata": {},
   "execution_count": null,
   "outputs": []
  },
  {
   "cell_type": "markdown",
   "source": [
    "CNN constructor class\n",
    "\n"
   ],
   "metadata": {}
  },
  {
   "cell_type": "code",
   "source": [
    "class CNN(torch.nn.Module):\n",
    "  def __init__(self, out_1=2, out_2=1):\n",
    "    super(CNN, self).__init__()\n",
    "    self.cnn1 = torch.nn.Conv2d(\n",
    "      in_channels=1,      # grayscale\n",
    "      out_channels=out_1,\n",
    "      kernel_size=2, padding=0\n",
    "    )\n",
    "\n",
    "    self.maxpool1 = torch.nn.MaxPool2d(kernel_size=2, stride=1)\n",
    "\n",
    "    self.cnn2 = torch.nn.Conv2d(\n",
    "      in_channels=out_1,\n",
    "      out_channels=out_2,\n",
    "      kernel_size=2, padding=0\n",
    "    )\n",
    "\n",
    "    self.maxpool2 = torch.nn.MaxPool2d(kernel_size=2, stride=1)\n",
    "\n",
    "    self.fc1 = torch.nn.Linear(\n",
    "      out_2*7*7,\n",
    "      2, # one for each class\n",
    "    )\n",
    "\n",
    "  def forward(self, x):\n",
    "    x = self.cnn1(x)\n",
    "    x = torch.relu(x)\n",
    "    x = self.maxpool1(x)\n",
    "\n",
    "    x = self.cnn2(x)\n",
    "    x = torch.relu(x)\n",
    "    x = self.maxpool2(x)\n",
    "\n",
    "    x = x.view(x.size(0), -1)\n",
    "    x = self.fc1(1)\n",
    "\n",
    "    return x\n",
    "\n"
   ],
   "metadata": {},
   "execution_count": null,
   "outputs": []
  },
  {
   "cell_type": "markdown",
   "source": [
    "### 9.5 Torch-Vision Models\n",
    "\n"
   ],
   "metadata": {}
  },
  {
   "cell_type": "code",
   "source": [],
   "metadata": {},
   "execution_count": null,
   "outputs": []
  }
 ],
 "metadata": {
  "language_info": {
   "name": "python"
  },
  "colab": {
   "provenance": [],
   "include_colab_link": true
  },
  "kernelspec": {
   "name": "python3",
   "display_name": "Python 3"
  }
 },
 "nbformat": 4,
 "nbformat_minor": 0
}