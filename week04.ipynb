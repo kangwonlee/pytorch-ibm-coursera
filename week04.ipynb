{
 "cells": [
  {
   "cell_type": "markdown",
   "metadata": {
    "id": "view-in-github",
    "colab_type": "text"
   },
   "source": [
    "<a href=\"https://colab.research.google.com/github/kangwonlee/pytorch-ibm-coursera/blob/main/week04.ipynb\" target=\"_parent\"><img src=\"https://colab.research.google.com/assets/colab-badge.svg\" alt=\"Open In Colab\"/></a>\n"
   ]
  },
  {
   "cell_type": "markdown",
   "metadata": {},
   "source": [
    "# Hello PyTorch 👋🏻\n",
    "\n"
   ]
  },
  {
   "cell_type": "markdown",
   "source": [
    "references\n",
    "* https://www.coursera.org/learn/deep-neural-networks-with-pytorch/\n",
    "* https://github.com/damounayman/Deep-Neural-Networks-with-PyTorch/blob/main/Week1/1D_tensors.ipynb\n",
    "\n"
   ],
   "metadata": {}
  },
  {
   "cell_type": "markdown",
   "source": [
    "## week 4\n",
    "\n"
   ],
   "metadata": {}
  },
  {
   "cell_type": "markdown",
   "source": [
    "### 6.1 Softmax Prediction\n",
    "* To classify more than two classes\n",
    "\n"
   ],
   "metadata": {}
  },
  {
   "cell_type": "markdown",
   "source": [
    "#### 1D\n",
    "\n"
   ],
   "metadata": {}
  },
  {
   "cell_type": "markdown",
   "source": [
    "Three classes:\n",
    "* `y = 0`\n",
    "* `y = 1`\n",
    "* `y = 2`\n",
    "\n"
   ],
   "metadata": {}
  },
  {
   "cell_type": "code",
   "source": [
    "import matplotlib.pyplot as plt\n",
    "import numpy as np\n",
    "import torch\n",
    "\n"
   ],
   "metadata": {},
   "execution_count": null,
   "outputs": []
  },
  {
   "cell_type": "code",
   "source": [
    "x = torch.linspace(-2.0, 2.0, 41)\n",
    "y = (x > -1)*1.0 + (x > 1)*1.0\n",
    "\n"
   ],
   "metadata": {},
   "execution_count": null,
   "outputs": []
  },
  {
   "cell_type": "code",
   "source": [
    "def plot_softmax_data_00(x, y, ax=None):\n",
    "\n",
    "  if ax is None:\n",
    "    ax = plt.gca()\n",
    "\n",
    "  x0 = x[y<0.5]\n",
    "  x1 = x[(0.5<y) & (y<1.5)]\n",
    "  x2 = x[1.5 < y]\n",
    "\n",
    "  ax.plot(x0.numpy(), np.zeros(x0.shape), 'b.', label='y=0')\n",
    "  ax.plot(x1.numpy(), np.zeros(x1.shape), 'r.', label='y=1')\n",
    "  ax.plot(x2.numpy(), np.zeros(x2.shape), 'g.', label='y=2')\n",
    "\n",
    "  ax.set_xlabel('x')\n",
    "  ax.legend(loc=0)\n",
    "  ax.grid(True)\n",
    "\n",
    "  return ax\n",
    "\n",
    "\n",
    "plot_softmax_data_00(x, y)\n",
    "\n"
   ],
   "metadata": {},
   "execution_count": null,
   "outputs": []
  },
  {
   "cell_type": "markdown",
   "source": [
    "Three functions\n",
    "* $z_0(x) = w_0 x + b_0$\n",
    "* $z_1(x) = w_1 x + b_1$\n",
    "* $z_2(x) = w_2 x + b_2$\n",
    "\n"
   ],
   "metadata": {}
  },
  {
   "cell_type": "markdown",
   "source": [
    "Classification\n",
    "* $\\hat {\\theta} = \\underset{i}{argmax}z_i(x)$\n",
    "\n"
   ],
   "metadata": {}
  },
  {
   "cell_type": "code",
   "source": [
    "def plot_softmax_lines_01(x, ax=None):\n",
    "\n",
    "  if ax is None:\n",
    "    ax = plt.gca()\n",
    "\n",
    "  w0, b0 = -1.0, -0.1\n",
    "  w1, b1 = 0.1, 1.0\n",
    "  w2, b2 = 1.1, -0.1\n",
    "\n",
    "  y0 = w0 * x.numpy() + b0\n",
    "  y1 = w1 * x.numpy() + b1\n",
    "  y2 = w2 * x.numpy() + b2\n",
    "\n",
    "  ax.plot(x.numpy(), y0, 'b-', label='$z_0$')\n",
    "  ax.plot(x.numpy(), y1, 'r-', label='$z_1$')\n",
    "  ax.plot(x.numpy(), y2, 'g-', label='$z_2$')\n",
    "\n",
    "  ax.set_ylim(bottom=-0.05, top=1.9)\n",
    "\n",
    "  ax.legend(loc=0)\n",
    "\n",
    "  return ax\n",
    "\n",
    "\n",
    "ax = plot_softmax_data_00(x, y)\n",
    "ax = plot_softmax_lines_01(x, ax=ax)\n",
    "\n"
   ],
   "metadata": {},
   "execution_count": null,
   "outputs": []
  },
  {
   "cell_type": "markdown",
   "source": [
    "#### 2D\n",
    "\n"
   ],
   "metadata": {}
  },
  {
   "cell_type": "markdown",
   "source": [
    "### 6.2 Softmax Function\n",
    "\n"
   ],
   "metadata": {}
  },
  {
   "cell_type": "markdown",
   "source": [
    "### 6.3 Softmax PyTorch\n",
    "\n"
   ],
   "metadata": {}
  },
  {
   "cell_type": "markdown",
   "source": [
    "## Shallow Neural Networks\n",
    "\n"
   ],
   "metadata": {}
  },
  {
   "cell_type": "markdown",
   "source": [
    "### 7.1 Neural Networks in One Dimension\n",
    "\n"
   ],
   "metadata": {}
  },
  {
   "cell_type": "markdown",
   "source": [
    "### 7.2 Neural Networks More Hidden Neurons\n",
    "\n"
   ],
   "metadata": {}
  },
  {
   "cell_type": "markdown",
   "source": [
    "### 7.3 Neural Networks with Multiple Dimensional Input\n",
    "\n"
   ],
   "metadata": {}
  },
  {
   "cell_type": "markdown",
   "source": [
    "### 7.4 Multi-Class Neural Networks\n",
    "\n"
   ],
   "metadata": {}
  },
  {
   "cell_type": "markdown",
   "source": [
    "### 7.5 Backpropagation\n",
    "\n"
   ],
   "metadata": {}
  },
  {
   "cell_type": "markdown",
   "source": [
    "### 7.6 Activation Function\n",
    "\n"
   ],
   "metadata": {}
  },
  {
   "cell_type": "code",
   "source": [],
   "metadata": {},
   "execution_count": null,
   "outputs": []
  }
 ],
 "metadata": {
  "language_info": {
   "name": "python"
  },
  "colab": {
   "provenance": [],
   "include_colab_link": true
  },
  "kernelspec": {
   "name": "python3",
   "display_name": "Python 3"
  }
 },
 "nbformat": 4,
 "nbformat_minor": 0
}