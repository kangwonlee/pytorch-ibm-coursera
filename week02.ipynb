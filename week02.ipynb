{
 "cells": [
  {
   "cell_type": "markdown",
   "metadata": {
    "id": "view-in-github",
    "colab_type": "text"
   },
   "source": [
    "<a href=\"https://colab.research.google.com/github/kangwonlee/pytorch-ibm-coursera/blob/main/week02.ipynb\" target=\"_parent\"><img src=\"https://colab.research.google.com/assets/colab-badge.svg\" alt=\"Open In Colab\"/></a>\n"
   ]
  },
  {
   "cell_type": "markdown",
   "metadata": {},
   "source": [
    "# Hello PyTorch 👋🏻\n",
    "\n"
   ]
  },
  {
   "cell_type": "markdown",
   "metadata": {},
   "source": [
    "references\n",
    "* https://www.coursera.org/learn/deep-neural-networks-with-pytorch/\n",
    "* https://github.com/damounayman/Deep-Neural-Networks-with-PyTorch/blob/main/Week1/1D_tensors.ipynb\n",
    "\n"
   ]
  },
  {
   "cell_type": "markdown",
   "metadata": {},
   "source": [
    "## week 2\n",
    "\n"
   ]
  },
  {
   "cell_type": "markdown",
   "metadata": {},
   "source": [
    "### 2.1 Linear Regression in 1D Forward Prediction\n",
    "\n"
   ]
  },
  {
   "cell_type": "markdown",
   "metadata": {},
   "source": [
    "#### Linear Regression\n",
    "\n"
   ]
  },
  {
   "cell_type": "markdown",
   "metadata": {},
   "source": [
    "$\\hat y =b+wx$\n",
    "\n"
   ]
  },
  {
   "cell_type": "code",
   "execution_count": null,
   "metadata": {},
   "outputs": [],
   "source": [
    "import torch\n",
    "\n"
   ]
  },
  {
   "cell_type": "code",
   "execution_count": null,
   "metadata": {},
   "outputs": [],
   "source": [
    "w = torch.tensor(2.0, requires_grad=True)\n",
    "b = torch.tensor(-1.0, requires_grad=True)\n",
    "\n"
   ]
  },
  {
   "cell_type": "code",
   "execution_count": null,
   "metadata": {},
   "outputs": [],
   "source": [
    "def forward(x):\n",
    "  y = w * x + b\n",
    "  return y\n",
    "\n"
   ]
  },
  {
   "cell_type": "code",
   "execution_count": null,
   "metadata": {},
   "outputs": [],
   "source": [
    "x = torch.tensor([1.0])\n",
    "\n"
   ]
  },
  {
   "cell_type": "code",
   "execution_count": null,
   "metadata": {
    "colab": {
     "base_uri": "https://localhost:8080/"
    },
    "outputId": "32cc0222-7e51-463f-c1e9-07123c718390"
   },
   "outputs": [],
   "source": [
    "yhat = forward(x)\n",
    "yhat\n",
    "\n"
   ]
  },
  {
   "cell_type": "markdown",
   "metadata": {},
   "source": [
    "$x =\n",
    "  \\begin{pmatrix}\n",
    "    1 \\\\\n",
    "    2\n",
    "  \\end{pmatrix}$\n",
    "\n"
   ]
  },
  {
   "cell_type": "code",
   "execution_count": null,
   "metadata": {},
   "outputs": [],
   "source": [
    "x = torch.tensor(\n",
    "    [\n",
    "        [1.0],\n",
    "        [2.0]\n",
    "    ],\n",
    ")\n",
    "\n"
   ]
  },
  {
   "cell_type": "code",
   "execution_count": null,
   "metadata": {
    "colab": {
     "base_uri": "https://localhost:8080/"
    },
    "outputId": "f8151b1f-2a98-4778-8307-2873c531ba25"
   },
   "outputs": [],
   "source": [
    "forward(x)\n",
    "\n"
   ]
  },
  {
   "cell_type": "markdown",
   "metadata": {},
   "source": [
    "#### `Linear` class\n",
    "\n"
   ]
  },
  {
   "cell_type": "code",
   "execution_count": null,
   "metadata": {
    "colab": {
     "base_uri": "https://localhost:8080/"
    },
    "outputId": "855cf68b-b37d-4337-f2a3-713428d7a230"
   },
   "outputs": [],
   "source": [
    "import torch.nn\n",
    "\n",
    "torch.manual_seed(1)\n",
    "\n"
   ]
  },
  {
   "cell_type": "markdown",
   "metadata": {},
   "source": [
    "$\\hat y_{1 \\times 1} =b_{1 \\times 1}+w_{1 \\times 1}x_{1 \\times 1}$\n",
    "\n"
   ]
  },
  {
   "cell_type": "code",
   "execution_count": null,
   "metadata": {},
   "outputs": [],
   "source": [
    "model = torch.nn.Linear(in_features=1, out_features=1)\n",
    "\n"
   ]
  },
  {
   "cell_type": "markdown",
   "metadata": {},
   "source": [
    "$b_{1 \\times 1}$ and $w_{1 \\times 1}$\n",
    "\n"
   ]
  },
  {
   "cell_type": "code",
   "execution_count": null,
   "metadata": {
    "colab": {
     "base_uri": "https://localhost:8080/"
    },
    "outputId": "48e1ecca-aabb-49ee-81ce-c66ad249cee6"
   },
   "outputs": [],
   "source": [
    "for p in model.parameters():\n",
    "  print(p)\n",
    "\n"
   ]
  },
  {
   "cell_type": "code",
   "execution_count": null,
   "metadata": {
    "colab": {
     "base_uri": "https://localhost:8080/"
    },
    "outputId": "51a65382-2237-461c-86a8-48345c1b64fe"
   },
   "outputs": [],
   "source": [
    "x = torch.tensor([0.0])\n",
    "yhat = model(x)\n",
    "yhat\n",
    "\n"
   ]
  },
  {
   "cell_type": "markdown",
   "metadata": {},
   "source": [
    "$x =\n",
    "  \\begin{pmatrix}\n",
    "    1 \\\\\n",
    "    2\n",
    "  \\end{pmatrix}$\n",
    "\n"
   ]
  },
  {
   "cell_type": "code",
   "execution_count": null,
   "metadata": {},
   "outputs": [],
   "source": [
    "x = torch.tensor(\n",
    "    [\n",
    "        [1.0],\n",
    "        [2.0]\n",
    "    ]\n",
    ")\n",
    "\n"
   ]
  },
  {
   "cell_type": "code",
   "execution_count": null,
   "metadata": {
    "colab": {
     "base_uri": "https://localhost:8080/"
    },
    "outputId": "6201286b-31c4-4703-de7b-17314ceca769"
   },
   "outputs": [],
   "source": [
    "yhat = model(x)\n",
    "yhat\n",
    "\n"
   ]
  },
  {
   "cell_type": "markdown",
   "metadata": {},
   "source": [
    "#### Custom Modules\n",
    "* may include multiple models\n"
   ]
  },
  {
   "cell_type": "code",
   "execution_count": null,
   "metadata": {},
   "outputs": [],
   "source": [
    "import torch.nn\n",
    "\n"
   ]
  },
  {
   "cell_type": "code",
   "execution_count": null,
   "metadata": {},
   "outputs": [],
   "source": [
    "class LR(torch.nn.Module):\n",
    "  def __init__(self, in_size, output_size):\n",
    "    super(LR, self).__init__()\n",
    "    self.linear = torch.nn.Linear(in_size, output_size)\n",
    "\n",
    "  def forward(self, x):\n",
    "    return self.linear(x)\n",
    "\n"
   ]
  },
  {
   "cell_type": "code",
   "execution_count": null,
   "metadata": {},
   "outputs": [],
   "source": [
    "model = LR(1, 1)\n",
    "\n",
    "state = model.state_dict()\n",
    "\n",
    "weight = state['linear.weight']\n",
    "weight.data[0] = torch.tensor([0.5153])\n",
    "\n",
    "bias = state['linear.bias']\n",
    "bias.data[0] = torch.tensor([-0.4414])\n",
    "\n"
   ]
  },
  {
   "cell_type": "markdown",
   "metadata": {},
   "source": [
    "$b_{1 \\times 1}$ and $w_{1 \\times 1}$\n",
    "\n"
   ]
  },
  {
   "cell_type": "code",
   "execution_count": null,
   "metadata": {
    "colab": {
     "base_uri": "https://localhost:8080/"
    },
    "outputId": "e011d5b4-09c1-430c-dbc4-1a3238b03e87"
   },
   "outputs": [],
   "source": [
    "for p in model.parameters():\n",
    "  print(p)\n",
    "\n"
   ]
  },
  {
   "cell_type": "code",
   "execution_count": null,
   "metadata": {
    "colab": {
     "base_uri": "https://localhost:8080/"
    },
    "outputId": "1aa902a3-77e5-4c6a-d123-cf318e4c8f20"
   },
   "outputs": [],
   "source": [
    "x = torch.tensor([1.0])\n",
    "model(x)\n",
    "\n"
   ]
  },
  {
   "cell_type": "code",
   "execution_count": null,
   "metadata": {
    "colab": {
     "base_uri": "https://localhost:8080/"
    },
    "outputId": "183c00a7-dd64-4308-fef3-f1151aa06a6d"
   },
   "outputs": [],
   "source": [
    "x = torch.tensor(\n",
    "    [\n",
    "        [1.0],\n",
    "        [2.0]\n",
    "    ]\n",
    ")\n",
    "model(x)\n",
    "\n"
   ]
  },
  {
   "cell_type": "code",
   "execution_count": null,
   "metadata": {
    "colab": {
     "base_uri": "https://localhost:8080/"
    },
    "outputId": "a2650022-d907-4669-9de0-e2008c2d64d2"
   },
   "outputs": [],
   "source": [
    "state = model.state_dict()\n",
    "state\n",
    "\n"
   ]
  },
  {
   "cell_type": "markdown",
   "metadata": {},
   "source": [
    "### 2.2 Linear Regression in 1D Training\n",
    "\n"
   ]
  },
  {
   "cell_type": "markdown",
   "metadata": {},
   "source": [
    "#### Linear Regression\n",
    "\n"
   ]
  },
  {
   "cell_type": "markdown",
   "metadata": {},
   "source": [
    "Cost function\n",
    "$$\n",
    "l(w, b)=\\frac{1}{N}\n",
    "  \\sum_{n=1}^N\n",
    "    \\left(\n",
    "      y_n - \\left(\n",
    "          wx_n + b\n",
    "        \\right)\n",
    "    \\right)^2\n",
    "$$\n",
    "\n"
   ]
  },
  {
   "cell_type": "markdown",
   "metadata": {},
   "source": [
    "#### Gradient Descent\n",
    "$$\n",
    "w^{k+1}=w^{k}-η \\frac{d}{dw}l\\left(w^k\\right)\n",
    "$$\n",
    "\n",
    "symbol | description\n",
    ":------:|-----\n",
    "$w$ | weight\n",
    "$l(w)$ | loss as a function of weigth\n",
    "$$\\frac{d}{dw}l(w)$$ | slope of loss as a function of weigth\n",
    "$k$ | training step\n",
    "$\\eta$ | **learning rate**\n",
    "\n"
   ]
  },
  {
   "cell_type": "markdown",
   "metadata": {},
   "source": [
    "#### PyTorch Slope\n",
    "\n"
   ]
  },
  {
   "cell_type": "code",
   "execution_count": null,
   "metadata": {},
   "outputs": [],
   "source": [
    "import matplotlib.pyplot as plt\n",
    "import numpy as np\n",
    "import torch\n",
    "\n"
   ]
  },
  {
   "cell_type": "code",
   "execution_count": null,
   "metadata": {},
   "outputs": [],
   "source": [
    "w = torch.tensor(-10.0, requires_grad=True)\n",
    "\n"
   ]
  },
  {
   "cell_type": "code",
   "execution_count": null,
   "metadata": {},
   "outputs": [],
   "source": [
    "X = torch.linspace(-3, 3, 61).view(-1, 1)\n",
    "\n"
   ]
  },
  {
   "cell_type": "code",
   "execution_count": null,
   "metadata": {},
   "outputs": [],
   "source": [
    "f = -3 * X\n",
    "\n"
   ]
  },
  {
   "cell_type": "code",
   "execution_count": null,
   "metadata": {},
   "outputs": [],
   "source": [
    "Y = f + 0.1 * torch.randn(X.size())\n",
    "\n"
   ]
  },
  {
   "cell_type": "code",
   "execution_count": null,
   "metadata": {
    "colab": {
     "base_uri": "https://localhost:8080/",
     "height": 449
    },
    "outputId": "40e0d192-1bae-409f-df22-deec460aa33e"
   },
   "outputs": [],
   "source": [
    "def plot_forward(X, f, Y, flabel='truth', Ylabel='measurements'):\n",
    "  try:\n",
    "    plt.plot(X.numpy(), f.numpy(), label=flabel)\n",
    "  except RuntimeError:\n",
    "    plt.plot(X.numpy(), f.detach().numpy(), label=flabel)\n",
    "\n",
    "  try:\n",
    "    plt.plot(X.numpy(), Y.numpy(), '.', label=Ylabel)\n",
    "  except RuntimeError:\n",
    "    plt.plot(X.numpy(), Y.detach().numpy(), '.', label=Ylabel)\n",
    "\n",
    "  plt.xlabel('X')\n",
    "  plt.ylabel('f')\n",
    "  plt.legend(loc=0)\n",
    "  plt.grid(True)\n",
    "\n",
    "plot_forward(X, f, Y)\n",
    "\n"
   ]
  },
  {
   "cell_type": "code",
   "execution_count": null,
   "metadata": {},
   "outputs": [],
   "source": [
    "def forward(x):\n",
    "  return w * x\n",
    "\n"
   ]
  },
  {
   "cell_type": "code",
   "execution_count": null,
   "metadata": {},
   "outputs": [],
   "source": [
    "def criterion(yhat, y):\n",
    "  return torch.mean((yhat - y) ** 2)\n",
    "\n"
   ]
  },
  {
   "cell_type": "code",
   "execution_count": null,
   "metadata": {},
   "outputs": [],
   "source": [
    "def plot_cost(weight, cost):\n",
    "  plt.plot(weight, cost, '.-')\n",
    "  plt.xlabel('w')\n",
    "  plt.ylabel('cost')\n",
    "  plt.grid(True)\n",
    "\n"
   ]
  },
  {
   "cell_type": "code",
   "execution_count": null,
   "metadata": {
    "colab": {
     "base_uri": "https://localhost:8080/",
     "height": 1000
    },
    "outputId": "21965dea-5d1d-4297-cd1d-45f311f50f72"
   },
   "outputs": [],
   "source": [
    "# learning rate\n",
    "lr = 0.1\n",
    "lr_neg = -lr\n",
    "\n",
    "weight = []\n",
    "cost = []\n",
    "\n",
    "# epoch : training steps\n",
    "for epoch in range(4):\n",
    "  Yhat = forward(X)\n",
    "\n",
    "  loss = criterion(Yhat, Y)\n",
    "  loss.backward()\n",
    "\n",
    "  w.data += (lr_neg) * w.grad.data\n",
    "  w.grad.data.zero_()\n",
    "\n",
    "  plt.figure()\n",
    "\n",
    "  plt.subplot(2, 1, 1)\n",
    "  weight.append(w.data.item())\n",
    "  cost.append(loss.item())\n",
    "  plot_cost(weight, cost)\n",
    "\n",
    "  plt.subplot(2, 1, 2)\n",
    "  plot_forward(X, Yhat, Y, 'prediction', 'data')\n",
    "\n"
   ]
  },
  {
   "cell_type": "markdown",
   "metadata": {},
   "source": [
    "#### Cost Surface\n",
    "\n"
   ]
  },
  {
   "cell_type": "markdown",
   "metadata": {},
   "source": [
    "in PyTorch, the hard way\n",
    "\n"
   ]
  },
  {
   "cell_type": "code",
   "execution_count": null,
   "metadata": {},
   "outputs": [],
   "source": [
    "def forward(x):\n",
    "  return w * x + b\n",
    "\n"
   ]
  },
  {
   "cell_type": "markdown",
   "metadata": {},
   "source": [
    "cost function\n",
    "\n"
   ]
  },
  {
   "cell_type": "code",
   "execution_count": null,
   "metadata": {},
   "outputs": [],
   "source": [
    "def criterion(yhat, y):\n",
    "  return torch.mean((yhat-y) ** 2)\n",
    "\n"
   ]
  },
  {
   "cell_type": "markdown",
   "metadata": {},
   "source": [
    "Initialize tensors\n",
    "\n"
   ]
  },
  {
   "cell_type": "code",
   "execution_count": null,
   "metadata": {},
   "outputs": [],
   "source": [
    "w = torch.tensor(-15.0, requires_grad=True)\n",
    "b = torch.tensor(-10.0, requires_grad=True)\n",
    "X = torch.linspace(-3.0, 3.0, 61).view(-1, 1)\n",
    "f = 1.0 * X - 1.0\n",
    "Y = f + 0.1 * torch.randn(X.size())\n",
    "\n"
   ]
  },
  {
   "cell_type": "markdown",
   "metadata": {},
   "source": [
    "Check sizes\n",
    "$$\n",
    "\\begin{align}\n",
    "  \\hat y &= wx+b \\\\\n",
    "  {\\hat y}_{pq \\times n} &= \\begin{pmatrix}\n",
    "    w_{p q \\times 1} & b_{p q \\times 1}\n",
    "  \\end{pmatrix}_{pq \\times 2}\n",
    "  \\begin{pmatrix}\n",
    "    x_{1 \\times n} \\\\ 1_{1 \\times n}\n",
    "  \\end{pmatrix}_{2 \\times n} \\\\\n",
    "error_{p q \\times n}&={\\hat y}_{pq \\times n} - 1_{pq \\times 1} y_{1 \\times n}\n",
    "\\end{align}\n",
    "$$\n",
    "\n"
   ]
  },
  {
   "cell_type": "code",
   "execution_count": null,
   "metadata": {
    "colab": {
     "base_uri": "https://localhost:8080/",
     "height": 455
    },
    "outputId": "307714b4-2a56-4d58-cb8a-44c9d48759f5"
   },
   "outputs": [],
   "source": [
    "def plot_cost_surface(\n",
    "    w_range:int, b_range:int,\n",
    "    X:torch.tensor, Y:torch.tensor,\n",
    "    n_samples:int=31, ax:plt.axis=plt.gca(),\n",
    "  ):\n",
    "  w_vec = np.linspace(-w_range, w_range, n_samples)\n",
    "  b_vec = np.linspace(-b_range, b_range, n_samples)\n",
    "\n",
    "  w_grid, b_grid = np.meshgrid(w_vec, b_vec)\n",
    "\n",
    "  x = X.numpy().reshape(1, -1)\n",
    "  y = Y.numpy().reshape(1, -1)\n",
    "\n",
    "  x_one = np.vstack([\n",
    "    x,\n",
    "    np.ones_like(x)\n",
    "  ])\n",
    "\n",
    "  w_flat = w_grid.flatten()\n",
    "  b_flat = b_grid.flatten()\n",
    "  wb = np.column_stack([w_flat, b_flat])\n",
    "\n",
    "  assert wb.shape[-1] == x_one.shape[0], (\n",
    "      '\\n'\n",
    "      f\"w_flat.shape = {w_flat.shape}\\n\"\n",
    "      f\"wb.shape = {wb.shape}\\n\"\n",
    "      f\"x_one.shape = {x_one.shape}\\n\"\n",
    "  )\n",
    "  yhat = wb @ x_one\n",
    "\n",
    "  ones_y = np.ones((len(w_flat), 1))\n",
    "\n",
    "  # using numpy broadcasting along the first dimension\n",
    "  # yhat [pq, n]\n",
    "  # y[1, n]\n",
    "  error = yhat - y\n",
    "  z_flat = np.mean(error**2, axis=1)\n",
    "\n",
    "  Z = z_flat.reshape(*w_grid.shape)\n",
    "\n",
    "  ax.contour(w_grid, b_grid, Z)\n",
    "\n",
    "\n",
    "plot_cost_surface(15, 15, X, Y)\n",
    "plt.xlabel('w')\n",
    "plt.ylabel('b')\n",
    "plt.axis('equal')\n",
    "plt.grid(True)\n",
    "\n"
   ]
  },
  {
   "cell_type": "code",
   "execution_count": null,
   "metadata": {
    "colab": {
     "base_uri": "https://localhost:8080/",
     "height": 455
    },
    "outputId": "b9967aad-f5c4-425a-80c6-59f5b289e718"
   },
   "outputs": [],
   "source": [
    "lr = 0.1\n",
    "lr_neg = -lr\n",
    "\n",
    "w_list = []\n",
    "b_list = []\n",
    "loss_list = []\n",
    "\n",
    "ax = plt.gca()\n",
    "plot_cost_surface(15, 15, X, Y, ax=ax)\n",
    "\n",
    "for epoch in range(15):\n",
    "  Yhat = forward(X)\n",
    "  loss = criterion(Yhat, Y)\n",
    "\n",
    "  loss.backward()\n",
    "\n",
    "  ax.plot([w.data.item()], [b.data.item()], '.')\n",
    "  ax.plot(\n",
    "      [w.data.item(), w.data.item()+(lr_neg)*w.grad.data.item()],\n",
    "      [b.data.item(), b.data.item()+(lr_neg)*b.grad.data.item()],\n",
    "      '-'\n",
    "  )\n",
    "\n",
    "  w.data += (lr_neg) * w.grad.data\n",
    "  w.grad.data.zero_()\n",
    "\n",
    "  b.data += (lr_neg) * b.grad.data\n",
    "  b.grad.data.zero_()\n",
    "\n",
    "  w_list.append(w.data.item())\n",
    "  b_list.append(b.data.item())\n",
    "  loss_list.append(loss.data.item())\n",
    "\n",
    "ax.set_xlabel('w')\n",
    "ax.set_ylabel('b')\n",
    "ax.grid(True)\n",
    "\n"
   ]
  },
  {
   "cell_type": "code",
   "execution_count": null,
   "metadata": {},
   "outputs": [],
   "source": []
  }
 ],
 "metadata": {
  "colab": {
   "include_colab_link": true,
   "provenance": []
  },
  "kernelspec": {
   "display_name": "Python 3 (ipykernel)",
   "language": "python",
   "name": "python3"
  },
  "language_info": {
   "codemirror_mode": {
    "name": "ipython",
    "version": 3
   },
   "file_extension": ".py",
   "mimetype": "text/x-python",
   "name": "python",
   "nbconvert_exporter": "python",
   "pygments_lexer": "ipython3",
   "version": "3.10.13"
  }
 },
 "nbformat": 4,
 "nbformat_minor": 1
}