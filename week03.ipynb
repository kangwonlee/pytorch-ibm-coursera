{
 "cells": [
  {
   "cell_type": "markdown",
   "metadata": {
    "id": "view-in-github",
    "colab_type": "text"
   },
   "source": [
    "<a href=\"https://colab.research.google.com/github/kangwonlee/pytorch-ibm-coursera/blob/main/week02.ipynb\" target=\"_parent\"><img src=\"https://colab.research.google.com/assets/colab-badge.svg\" alt=\"Open In Colab\"/></a>\n"
   ]
  },
  {
   "cell_type": "markdown",
   "metadata": {},
   "source": [
    "# Hello PyTorch 👋🏻\n",
    "\n"
   ]
  },
  {
   "cell_type": "markdown",
   "source": [
    "references\n",
    "* https://www.coursera.org/learn/deep-neural-networks-with-pytorch/\n",
    "* https://github.com/damounayman/Deep-Neural-Networks-with-PyTorch/blob/main/Week1/1D_tensors.ipynb\n",
    "\n"
   ],
   "metadata": {}
  },
  {
   "cell_type": "markdown",
   "source": [
    "## week 3\n",
    "\n"
   ],
   "metadata": {}
  },
  {
   "cell_type": "markdown",
   "source": [
    "### 4.1 Multiple Linear Regression Prediction\n",
    "\n"
   ],
   "metadata": {}
  },
  {
   "cell_type": "markdown",
   "source": [
    "$$\n",
    "\\mathbb{y}_{n \\times 1} = \\mathbb{X}_{n \\times m}\\mathbb{w}_{m \\times 1} + b_{-1\\times 1}\n",
    "$$\n",
    "\n"
   ],
   "metadata": {}
  },
  {
   "cell_type": "markdown",
   "source": [
    "Here, -1 of $b_{-1 \\times 1}$ means the `numpy` broadcasting.\n",
    "\n"
   ],
   "metadata": {}
  },
  {
   "cell_type": "markdown",
   "source": [
    "#### Linear Class\n",
    "\n"
   ],
   "metadata": {}
  },
  {
   "cell_type": "code",
   "source": [
    "import torch.nn\n",
    "\n"
   ],
   "metadata": {},
   "execution_count": null,
   "outputs": []
  },
  {
   "cell_type": "code",
   "source": [
    "torch.manual_seed(1)\n",
    "model = torch.nn.Linear(in_features=2, out_features=1)\n",
    "\n",
    "list(model.parameters())\n",
    "\n"
   ],
   "metadata": {},
   "execution_count": null,
   "outputs": []
  },
  {
   "cell_type": "code",
   "source": [
    "model.state_dict()\n",
    "\n"
   ],
   "metadata": {},
   "execution_count": null,
   "outputs": []
  },
  {
   "cell_type": "markdown",
   "source": [
    "Forward\n"
   ],
   "metadata": {}
  },
  {
   "cell_type": "code",
   "source": [
    "X = torch.tensor([1.0, 3.0])\n",
    "yhat = model(X)\n",
    "yhat\n",
    "\n"
   ],
   "metadata": {},
   "execution_count": null,
   "outputs": []
  },
  {
   "cell_type": "markdown",
   "source": [
    "#### Custom Modules\n",
    "\n"
   ],
   "metadata": {}
  },
  {
   "cell_type": "code",
   "source": [
    "import torch.nn\n",
    "\n",
    "\n",
    "torch.manual_seed(1)\n",
    "class LR(torch.nn.Module):\n",
    "\n",
    "  def __init__(self, input_size, output_size):\n",
    "    super(LR, self).__init__()\n",
    "    self.linear = torch.nn.Linear(input_size, output_size)\n",
    "\n",
    "  def forward(self, x):\n",
    "    return self.linear(x)\n",
    "\n",
    "model = LR(input_size=2, output_size=1)\n",
    "\n"
   ],
   "metadata": {},
   "execution_count": null,
   "outputs": []
  },
  {
   "cell_type": "code",
   "source": [
    "X = torch.tensor(\n",
    "    [\n",
    "        [1.0, 1.0],\n",
    "        [1.0, 2.0],\n",
    "        [1.0, 3.0],\n",
    "    ]\n",
    ")\n",
    "X\n"
   ],
   "metadata": {},
   "execution_count": null,
   "outputs": []
  },
  {
   "cell_type": "code",
   "source": [
    "model(X)\n",
    "\n"
   ],
   "metadata": {},
   "execution_count": null,
   "outputs": []
  },
  {
   "cell_type": "markdown",
   "source": [
    "### 4.2 Multiple Linear Regression Training\n",
    "\n"
   ],
   "metadata": {}
  },
  {
   "cell_type": "markdown",
   "source": [
    "$$\n",
    "l\\left(\\mathbb{w}, b\\right)=\n",
    "\\frac{1}{N}\n",
    "\\sum_{i=1}^N{\n",
    "  \\left(\n",
    "    y_i - (x \\cdot \\mathbb{w}+b)\n",
    "  \\right)^2\n",
    "}\n",
    "$$\n",
    "\n"
   ],
   "metadata": {}
  },
  {
   "cell_type": "markdown",
   "source": [
    "Gradient vector\n",
    "\n"
   ],
   "metadata": {}
  },
  {
   "cell_type": "markdown",
   "source": [
    "$$\n",
    "\\nabla l(\\mathbb{w}, b) = \\begin{bmatrix}\n",
    "  \\frac{\\partial}{\\partial w_1}l(\\mathbb{w}, b) \\\\\n",
    "  \\frac{\\partial}{\\partial w_2}l(\\mathbb{w}, b) \\\\\n",
    "  \\vdots \\\\\n",
    "  \\frac{\\partial}{\\partial w_d}l(\\mathbb{w}, b) \\\\\n",
    "  \\frac{\\partial}{\\partial b}l(\\mathbb{w}, b) \\\\\n",
    "\\end{bmatrix}\n",
    "$$\n",
    "\n"
   ],
   "metadata": {}
  },
  {
   "cell_type": "code",
   "source": [],
   "metadata": {},
   "execution_count": null,
   "outputs": []
  }
 ],
 "metadata": {
  "language_info": {
   "name": "python"
  },
  "colab": {
   "provenance": [],
   "include_colab_link": true
  },
  "kernelspec": {
   "name": "python3",
   "display_name": "Python 3"
  }
 },
 "nbformat": 4,
 "nbformat_minor": 0
}