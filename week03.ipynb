{
 "cells": [
  {
   "cell_type": "markdown",
   "metadata": {
    "id": "view-in-github",
    "colab_type": "text"
   },
   "source": [
    "<a href=\"https://colab.research.google.com/github/kangwonlee/pytorch-ibm-coursera/blob/main/week03.ipynb\" target=\"_parent\"><img src=\"https://colab.research.google.com/assets/colab-badge.svg\" alt=\"Open In Colab\"/></a>\n"
   ]
  },
  {
   "cell_type": "markdown",
   "metadata": {},
   "source": [
    "# Hello PyTorch 👋🏻\n",
    "\n"
   ]
  },
  {
   "cell_type": "markdown",
   "source": [
    "references\n",
    "* https://www.coursera.org/learn/deep-neural-networks-with-pytorch/\n",
    "* https://github.com/damounayman/Deep-Neural-Networks-with-PyTorch/blob/main/Week1/1D_tensors.ipynb\n",
    "\n"
   ],
   "metadata": {}
  },
  {
   "cell_type": "markdown",
   "source": [
    "## week 3\n",
    "\n"
   ],
   "metadata": {}
  },
  {
   "cell_type": "markdown",
   "source": [
    "### 4.1 Multiple Linear Regression Prediction\n",
    "\n"
   ],
   "metadata": {}
  },
  {
   "cell_type": "markdown",
   "source": [
    "$$\n",
    "\\mathbb{y}_{n \\times 1} = \\mathbb{X}_{n \\times m}\\mathbb{w}_{m \\times 1} + b_{-1\\times 1}\n",
    "$$\n",
    "\n"
   ],
   "metadata": {}
  },
  {
   "cell_type": "markdown",
   "source": [
    "Here, -1 of $b_{-1 \\times 1}$ means the `numpy` broadcasting.\n",
    "\n"
   ],
   "metadata": {}
  },
  {
   "cell_type": "markdown",
   "source": [
    "#### Linear Class\n",
    "\n"
   ],
   "metadata": {}
  },
  {
   "cell_type": "code",
   "source": [
    "import torch.nn\n",
    "\n"
   ],
   "metadata": {},
   "execution_count": null,
   "outputs": []
  },
  {
   "cell_type": "code",
   "source": [
    "torch.manual_seed(1)\n",
    "model = torch.nn.Linear(in_features=2, out_features=1)\n",
    "\n",
    "list(model.parameters())\n",
    "\n"
   ],
   "metadata": {},
   "execution_count": null,
   "outputs": []
  },
  {
   "cell_type": "code",
   "source": [
    "model.state_dict()\n",
    "\n"
   ],
   "metadata": {},
   "execution_count": null,
   "outputs": []
  },
  {
   "cell_type": "markdown",
   "source": [
    "Forward\n"
   ],
   "metadata": {}
  },
  {
   "cell_type": "code",
   "source": [
    "X = torch.tensor([1.0, 3.0])\n",
    "yhat = model(X)\n",
    "yhat\n",
    "\n"
   ],
   "metadata": {},
   "execution_count": null,
   "outputs": []
  },
  {
   "cell_type": "markdown",
   "source": [
    "#### Custom Modules\n",
    "\n"
   ],
   "metadata": {}
  },
  {
   "cell_type": "code",
   "source": [
    "import torch.nn\n",
    "\n",
    "\n",
    "torch.manual_seed(1)\n",
    "class LR(torch.nn.Module):\n",
    "\n",
    "  def __init__(self, input_size, output_size):\n",
    "    super(LR, self).__init__()\n",
    "    self.linear = torch.nn.Linear(input_size, output_size)\n",
    "\n",
    "  def forward(self, x):\n",
    "    return self.linear(x)\n",
    "\n",
    "model = LR(input_size=2, output_size=1)\n",
    "\n"
   ],
   "metadata": {},
   "execution_count": null,
   "outputs": []
  },
  {
   "cell_type": "code",
   "source": [
    "X = torch.tensor(\n",
    "    [\n",
    "        [1.0, 1.0],\n",
    "        [1.0, 2.0],\n",
    "        [1.0, 3.0],\n",
    "    ]\n",
    ")\n",
    "X\n"
   ],
   "metadata": {},
   "execution_count": null,
   "outputs": []
  },
  {
   "cell_type": "code",
   "source": [
    "model(X)\n",
    "\n"
   ],
   "metadata": {},
   "execution_count": null,
   "outputs": []
  },
  {
   "cell_type": "markdown",
   "source": [
    "### 4.2 Multiple Linear Regression Training\n",
    "\n"
   ],
   "metadata": {}
  },
  {
   "cell_type": "markdown",
   "source": [
    "$$\n",
    "l\\left(\\mathbb{w}, b\\right)=\n",
    "\\frac{1}{N}\n",
    "\\sum_{i=1}^N{\n",
    "  \\left(\n",
    "    y_i - (x \\cdot \\mathbb{w}+b)\n",
    "  \\right)^2\n",
    "}\n",
    "$$\n",
    "\n"
   ],
   "metadata": {}
  },
  {
   "cell_type": "markdown",
   "source": [
    "Gradient vector\n",
    "\n"
   ],
   "metadata": {}
  },
  {
   "cell_type": "markdown",
   "source": [
    "$$\n",
    "\\nabla l(\\mathbb{w}, b) = \\begin{bmatrix}\n",
    "  \\frac{\\partial}{\\partial w_1}l(\\mathbb{w}, b) \\\\\n",
    "  \\frac{\\partial}{\\partial w_2}l(\\mathbb{w}, b) \\\\\n",
    "  \\vdots \\\\\n",
    "  \\frac{\\partial}{\\partial w_d}l(\\mathbb{w}, b) \\\\\n",
    "  \\frac{\\partial}{\\partial b}l(\\mathbb{w}, b) \\\\\n",
    "\\end{bmatrix}\n",
    "$$\n",
    "\n"
   ],
   "metadata": {}
  },
  {
   "cell_type": "code",
   "source": [
    "import matplotlib.pyplot as plt\n",
    "\n",
    "import torch\n",
    "import torch.nn\n",
    "import torch.optim\n",
    "import torch.utils.data\n",
    "\n"
   ],
   "metadata": {},
   "execution_count": null,
   "outputs": []
  },
  {
   "cell_type": "code",
   "source": [
    "class Data2D(torch.utils.data.Dataset):\n",
    "  def __init__(self, n_samples=21, ndim=2, xlim=1, noise=0.1):\n",
    "\n",
    "    self.x = torch.zeros(n_samples, ndim)\n",
    "    for idim in range(ndim):\n",
    "      self.x[:, idim] = torch.linspace(-xlim, xlim, n_samples)\n",
    "\n",
    "    self.w = torch.tensor([[1.0]]*ndim)\n",
    "    self.b = 1.0\n",
    "\n",
    "    self.f = self.forward(self.w, self.x, self.b)\n",
    "    self.y = self.x + noise * torch.randn((n_samples, 1))\n",
    "\n",
    "    self.len = n_samples\n",
    "\n",
    "  @staticmethod\n",
    "  def forward(w, x, b):\n",
    "    return torch.mm(x, w) + b\n",
    "\n",
    "  def __getitem__(self, index):\n",
    "    return self.x[index], self.y[index]\n",
    "\n",
    "  def __len__(self):\n",
    "    return self.len\n",
    "\n"
   ],
   "metadata": {},
   "execution_count": null,
   "outputs": []
  },
  {
   "cell_type": "code",
   "source": [
    "data_set = Data2D()\n",
    "criterion = torch.nn.MSELoss()\n",
    "\n",
    "trainloader = torch.utils.data.DataLoader(\n",
    "    dataset=data_set,\n",
    "    batch_size=2\n",
    ")\n",
    "\n",
    "model = LR(input_size=2, output_size=1)\n",
    "optimizer = torch.optim.SGD(model.parameters(), lr=0.1)\n",
    "\n",
    "LOSS, epoch_list = [], []\n",
    "\n",
    "for epoch in range(100):\n",
    "  for k, (x, y) in enumerate(trainloader):\n",
    "    yhat = model(x)\n",
    "    loss = criterion(yhat, y)\n",
    "\n",
    "    epoch_list.append(epoch + k/len(trainloader))\n",
    "    LOSS.append(loss.item())\n",
    "    optimizer.zero_grad()\n",
    "    loss.backward()\n",
    "    optimizer.step()\n",
    "\n"
   ],
   "metadata": {},
   "execution_count": null,
   "outputs": []
  },
  {
   "cell_type": "code",
   "source": [
    "plt.loglog(epoch_list, LOSS, '.-')\n",
    "plt.xlabel('epoch')\n",
    "plt.ylabel('loss')\n",
    "plt.grid(True)\n",
    "\n"
   ],
   "metadata": {},
   "execution_count": null,
   "outputs": []
  },
  {
   "cell_type": "markdown",
   "source": [
    "Multiple dimension example :\n",
    "* input 1 dimension\n",
    "* output 10 dimension\n",
    "\n"
   ],
   "metadata": {}
  },
  {
   "cell_type": "code",
   "source": [
    "torch.manual_seed(1)\n",
    "\n",
    "model = LR(1, 10)\n",
    "model(torch.tensor([1.0]))\n",
    "\n"
   ],
   "metadata": {},
   "execution_count": null,
   "outputs": []
  },
  {
   "cell_type": "code",
   "source": [
    "list(\n",
    "    model.parameters()\n",
    ")\n",
    "\n"
   ],
   "metadata": {},
   "execution_count": null,
   "outputs": []
  },
  {
   "cell_type": "code",
   "source": [
    "x = torch.tensor([[1.0]])\n",
    "\n"
   ],
   "metadata": {},
   "execution_count": null,
   "outputs": []
  },
  {
   "cell_type": "markdown",
   "source": [
    "Predict one sample\n",
    "\n"
   ],
   "metadata": {}
  },
  {
   "cell_type": "code",
   "source": [
    "yhat = model(x)\n",
    "yhat\n"
   ],
   "metadata": {},
   "execution_count": null,
   "outputs": []
  },
  {
   "cell_type": "markdown",
   "source": [
    "Predict three samples\n",
    "\n"
   ],
   "metadata": {}
  },
  {
   "cell_type": "code",
   "source": [
    "X = torch.tensor([\n",
    "    [1.0],\n",
    "    [1.0],\n",
    "    [3.0],\n",
    "])\n",
    "\n"
   ],
   "metadata": {},
   "execution_count": null,
   "outputs": []
  },
  {
   "cell_type": "code",
   "source": [
    "Yhat = model(X)\n",
    "Yhat\n",
    "\n"
   ],
   "metadata": {},
   "execution_count": null,
   "outputs": []
  },
  {
   "cell_type": "markdown",
   "source": [
    "$$\n",
    "\\mathbb{y}_{n \\times m} = \\mathbb{X}_{n \\times d}\\mathbb{W}_{d \\times m} + b\n",
    "$$\n",
    "\n"
   ],
   "metadata": {}
  },
  {
   "cell_type": "code",
   "source": [],
   "metadata": {},
   "execution_count": null,
   "outputs": []
  }
 ],
 "metadata": {
  "language_info": {
   "name": "python"
  },
  "colab": {
   "provenance": [],
   "include_colab_link": true
  },
  "kernelspec": {
   "name": "python3",
   "display_name": "Python 3"
  }
 },
 "nbformat": 4,
 "nbformat_minor": 0
}