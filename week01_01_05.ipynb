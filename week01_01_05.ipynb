{
 "cells": [
  {
   "cell_type": "markdown",
   "metadata": {
    "id": "view-in-github",
    "colab_type": "text"
   },
   "source": [
    "<a href=\"https://colab.research.google.com/github/kangwonlee/pytorch-ibm-coursera/blob/main/week01_01_05.ipynb\" target=\"_parent\"><img src=\"https://colab.research.google.com/assets/colab-badge.svg\" alt=\"Open In Colab\"/></a>\n"
   ]
  },
  {
   "cell_type": "markdown",
   "metadata": {},
   "source": [
    "# Hello PyTorch 👋🏻\n",
    "\n"
   ]
  },
  {
   "cell_type": "markdown",
   "source": [
    "references\n",
    "* https://www.coursera.org/learn/deep-neural-networks-with-pytorch/\n",
    "* https://github.com/damounayman/Deep-Neural-Networks-with-PyTorch/blob/main/Week1/1D_tensors.ipynb\n",
    "\n"
   ],
   "metadata": {}
  },
  {
   "cell_type": "markdown",
   "source": [
    "## week 1\n",
    "\n"
   ],
   "metadata": {}
  },
  {
   "cell_type": "markdown",
   "source": [
    "### 1.5 Dataset\n",
    "\n"
   ],
   "metadata": {}
  },
  {
   "cell_type": "markdown",
   "source": [
    "#### Dataset Class\n",
    "for images\n",
    "\n"
   ],
   "metadata": {}
  },
  {
   "cell_type": "code",
   "source": [
    "import os\n",
    "import pathlib\n",
    "import sys\n",
    "\n",
    "\n",
    "import matplotlib.pyplot as plt\n",
    "import pandas as pd\n",
    "import PIL\n",
    "import torch.utils.data\n",
    "\n"
   ],
   "metadata": {},
   "execution_count": null,
   "outputs": []
  },
  {
   "cell_type": "markdown",
   "source": [
    "dataset :\n",
    "* https://github.com/zalandoresearch/fashion-mnist\n",
    "* 28 x 28 bitmaps\n",
    "\n"
   ],
   "metadata": {}
  },
  {
   "cell_type": "markdown",
   "source": [
    "<img src=\"https://github.com/zalandoresearch/fashion-mnist/raw/master/doc/img/fashion-mnist-sprite.png\" width=300 height=300></img>\n"
   ],
   "metadata": {}
  },
  {
   "cell_type": "code",
   "source": [
    "try:\n",
    "  repo_path = pathlib.Path('fashion-mnist')\n",
    "  assert repo_path.exists()\n",
    "except AssertionError:\n",
    "  import subprocess\n",
    "  p = subprocess.run(\n",
    "      ['git', 'clone', 'https://github.com/zalandoresearch/fashion-mnist'],\n",
    "      stdout=subprocess.PIPE, stderr=subprocess.PIPE,\n",
    "      encoding='utf-8',\n",
    "  )\n",
    "  assert (0 == p.returncode), (\n",
    "      '\\n'\n",
    "      f\"code : {p.check_returncode}\\n\"\n",
    "      f\"output : {p.stdout}\\n\"\n",
    "      f\"error  : {p.stderr}\"\n",
    "  )\n",
    "\n",
    "assert repo_path.is_dir()\n",
    "data_utils_path = (repo_path / 'utils').resolve()\n",
    "assert data_utils_path.exists()\n",
    "assert data_utils_path.is_dir()\n",
    "\n",
    "sys.path.insert(0, str(repo_path / 'utils'))\n",
    "\n",
    "import mnist_reader\n",
    "\n"
   ],
   "metadata": {},
   "execution_count": null,
   "outputs": []
  },
  {
   "cell_type": "code",
   "source": [
    "fashion_path = repo_path / 'data' / 'fashion'\n",
    "assert fashion_path.exists()\n",
    "assert fashion_path.is_dir()\n",
    "\n",
    "X_train, y_train = mnist_reader.load_mnist(fashion_path, kind='train')\n",
    "X_test, y_test = mnist_reader.load_mnist(fashion_path, kind='t10k')\n",
    "\n"
   ],
   "metadata": {},
   "execution_count": null,
   "outputs": []
  },
  {
   "cell_type": "markdown",
   "source": [
    "To reset repo :\n",
    "\n"
   ],
   "metadata": {}
  },
  {
   "cell_type": "code",
   "source": [
    "#!rm -rf fashion-mnist/\n",
    "\n"
   ],
   "metadata": {},
   "execution_count": null,
   "outputs": []
  },
  {
   "cell_type": "code",
   "source": [
    "# TODO : load only data needed not the whole set\n",
    "\n",
    "class Dataset(torch.utils.data.Dataset):\n",
    "  def __init__(self, data_path=fashion_path, transform=None):\n",
    "    self.transform = transform\n",
    "    self.data_path = data_path\n",
    "    self.X_train, self.y_train = mnist_reader.load_mnist(fashion_path, kind='train')\n",
    "    self.X_test, self.y_test = mnist_reader.load_mnist(fashion_path, kind='t10k')\n",
    "    self.len = self.X_train.shape[0]\n",
    "\n",
    "  def __len__(self):\n",
    "    return self.len\n",
    "\n",
    "  def __getitem__(self, idx):\n",
    "    image = self.X_train[idx].reshape(28, 28)\n",
    "    y = self.y_train[idx]\n",
    "    return image, y\n",
    "\n"
   ],
   "metadata": {},
   "execution_count": null,
   "outputs": []
  },
  {
   "cell_type": "code",
   "source": [
    "lookup = (\n",
    "  'T-shirt/top', 'Trouser', 'Pullover',\n",
    "  'Dress', 'Coat', 'Sandal',\n",
    "  'Shirt', 'Sneaker', 'Bag',\n",
    "  'Ankle boot',\n",
    ")\n",
    "\n"
   ],
   "metadata": {},
   "execution_count": null,
   "outputs": []
  },
  {
   "cell_type": "code",
   "source": [
    "dataset = Dataset()\n",
    "n_subplots = 5\n",
    "_, axs = plt.subplots(n_subplots, 1,figsize=(9, 16))\n",
    "for k in range(n_subplots):\n",
    "  x, y = dataset[k]\n",
    "  axs[k].imshow(x)\n",
    "  axs[k].set_title(lookup[y])\n",
    "\n"
   ],
   "metadata": {},
   "execution_count": null,
   "outputs": []
  },
  {
   "cell_type": "code",
   "source": [],
   "metadata": {},
   "execution_count": null,
   "outputs": []
  }
 ],
 "metadata": {
  "language_info": {
   "name": "python"
  },
  "colab": {
   "provenance": [],
   "include_colab_link": true
  },
  "kernelspec": {
   "name": "python3",
   "display_name": "Python 3"
  }
 },
 "nbformat": 4,
 "nbformat_minor": 0
}