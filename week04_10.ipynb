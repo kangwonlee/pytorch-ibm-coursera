{
 "cells": [
  {
   "cell_type": "markdown",
   "metadata": {
    "id": "view-in-github",
    "colab_type": "text"
   },
   "source": [
    "<a href=\"https://colab.research.google.com/github/kangwonlee/pytorch-ibm-coursera/blob/main/week04_10.ipynb\" target=\"_parent\"><img src=\"https://colab.research.google.com/assets/colab-badge.svg\" alt=\"Open In Colab\"/></a>\n"
   ]
  },
  {
   "cell_type": "markdown",
   "metadata": {},
   "source": [
    "# Hello PyTorch 👋🏻\n",
    "\n"
   ]
  },
  {
   "cell_type": "markdown",
   "metadata": {},
   "source": [
    "references\n",
    "* https://www.coursera.org/learn/deep-neural-networks-with-pytorch/\n",
    "* https://github.com/damounayman/Deep-Neural-Networks-with-PyTorch/blob/main/Week1/1D_tensors.ipynb\n",
    "\n"
   ]
  },
  {
   "cell_type": "markdown",
   "metadata": {},
   "source": [
    "## week 4\n",
    "\n"
   ]
  },
  {
   "cell_type": "markdown",
   "metadata": {},
   "source": [
    "## Shallow Neural Networks\n",
    "\n"
   ]
  },
  {
   "cell_type": "markdown",
   "metadata": {},
   "source": [
    "### 7.1 Neural Networks in One Dimension\n",
    "\n"
   ]
  },
  {
   "cell_type": "code",
   "execution_count": null,
   "metadata": {},
   "outputs": [],
   "source": [
    "import functools\n",
    "import os\n",
    "import random\n",
    "from typing import Callable\n",
    "\n",
    "\n",
    "import matplotlib.pyplot as plt\n",
    "import torch\n",
    "import torch.nn\n",
    "import torchvision.datasets\n",
    "\n"
   ]
  },
  {
   "cell_type": "code",
   "execution_count": null,
   "metadata": {},
   "outputs": [],
   "source": [
    "torch.manual_seed(0)\n",
    "\n",
    "\n",
    "class Net(torch.nn.Module):\n",
    "  def __init__(self, *argv, **kwarg):\n",
    "    super(Net, self).__init__()\n",
    "\n",
    "    self.linears = torch.nn.ModuleList([])\n",
    "    for n_in, n_out in (argv[:-1], argv[1:]):\n",
    "      self.linears.append(torch.nn.Linear(n_in, n_out))\n",
    "\n",
    "  def forward(self, x):\n",
    "\n",
    "    for layer in self.linears:\n",
    "      x = torch.sigmoid(layer(x))\n",
    "\n",
    "    return x\n",
    "\n",
    "  def plot_activation(self, Y, X):\n",
    "      a1 = torch.sigmoid(self.linears[0](X))\n",
    "      plt.scatter(\n",
    "          a1.detach().numpy()[:, 0],\n",
    "          a1.detach().numpy()[:, 1],\n",
    "          c=Y.numpy().reshape(-1)\n",
    "      )\n",
    "      plt.title('activations')\n",
    "      plt.grid(True)\n",
    "\n",
    "\n",
    "# https://pytorch.org/docs/stable/generated/torch.nn.ModuleList.html\n",
    "# https://stackoverflow.com/questions/50463975/pytorch-how-to-properly-create-a-list-of-nn-linear\n",
    "# https://discuss.pytorch.org/t/when-should-i-use-nn-modulelist-and-when-should-i-use-nn-sequential/5463\n",
    "\n"
   ]
  },
  {
   "cell_type": "markdown",
   "metadata": {},
   "source": [
    "* 1 input node\n",
    "* two nodes in the input layer\n",
    "* one node on the output layer\n",
    "\n"
   ]
  },
  {
   "cell_type": "markdown",
   "metadata": {},
   "source": [
    "$$\n",
    "\\begin{align}\n",
    "z_{N \\times 2}^1&=x_{N \\times 1}^1W_{1 \\times 2}^1+b_{N \\times 2}^1 \\\\\n",
    "x_{N \\times 2}^2&=\\sigma(z_{N \\times 2}^1) \\\\\n",
    "z_{N \\times 1}^2&=x_{N \\times 2}^2W_{2 \\times 1}^2+b_{N \\times 1}^2 \\\\\n",
    "y_{N \\times 1}&=\\sigma(z_{N \\times 1}^2)\n",
    "\\end{align}\n",
    "$$\n",
    "\n"
   ]
  },
  {
   "cell_type": "code",
   "execution_count": null,
   "metadata": {},
   "outputs": [],
   "source": [
    "model = Net(1, 2, 1)\n",
    "\n",
    "x = torch.tensor([0.0])\n",
    "\n",
    "yhat = model(x)\n",
    "yhat\n",
    "\n"
   ]
  },
  {
   "cell_type": "code",
   "execution_count": null,
   "metadata": {},
   "outputs": [],
   "source": [
    "model.state_dict()\n",
    "\n"
   ]
  },
  {
   "cell_type": "markdown",
   "metadata": {},
   "source": [
    "Sequential version\n",
    "\n"
   ]
  },
  {
   "cell_type": "code",
   "execution_count": null,
   "metadata": {},
   "outputs": [],
   "source": [
    "torch.manual_seed(1)\n",
    "\n",
    "model = torch.nn.Sequential(\n",
    "    torch.nn.Linear(1, 2),\n",
    "    torch.nn.Sigmoid(),\n",
    "    torch.nn.Linear(2, 1),\n",
    "    torch.nn.Sigmoid(),\n",
    ")\n",
    "\n",
    "x = torch.tensor([0.0])\n",
    "\n",
    "yhat = model(x)\n",
    "\n",
    "yhat\n",
    "\n"
   ]
  },
  {
   "cell_type": "code",
   "execution_count": null,
   "metadata": {},
   "outputs": [],
   "source": [
    "x = torch.tensor([\n",
    "    [0.0],\n",
    "    [1.0],\n",
    "    [2.0],\n",
    "  ])\n",
    "\n",
    "yhat = model(x)\n",
    "\n",
    "yhat\n",
    "\n"
   ]
  },
  {
   "cell_type": "code",
   "execution_count": null,
   "metadata": {},
   "outputs": [],
   "source": [
    "model.state_dict()\n",
    "\n"
   ]
  },
  {
   "cell_type": "markdown",
   "metadata": {},
   "source": [
    "Train the model\n",
    "\n"
   ]
  },
  {
   "cell_type": "code",
   "execution_count": null,
   "metadata": {},
   "outputs": [],
   "source": [
    "X = torch.linspace(-20, 20, 41).view(-1, 1).type(torch.FloatTensor)\n",
    "Y = torch.zeros(X.shape[0])\n",
    "Y[\n",
    "    (X[:, 0] > -4.0) & (X[:, 0] < 4.0)\n",
    "] = 1.0\n",
    "Y = Y.view(-1, 1)\n",
    "\n"
   ]
  },
  {
   "cell_type": "code",
   "execution_count": null,
   "metadata": {},
   "outputs": [],
   "source": [
    "def plot_y_yhat(X, Y, model, epoch, legend=True):\n",
    "    plt.plot(\n",
    "        X.numpy(), model(X).detach().numpy(),\n",
    "        label=('epoch '+str(epoch))\n",
    "    )\n",
    "    plt.plot(X.numpy(), Y.numpy(), 'r')\n",
    "    plt.xlabel('x')\n",
    "    if legend:\n",
    "      plt.legend(loc=0)\n",
    "    plt.grid(True)\n",
    "\n"
   ]
  },
  {
   "cell_type": "code",
   "execution_count": null,
   "metadata": {},
   "outputs": [],
   "source": [
    "def train(Y, X, model, optimizer, criterion, n_epoch=1000):\n",
    "  cost = []\n",
    "  total = 0\n",
    "\n",
    "  if os.getenv('CI', False):\n",
    "    n_epoch = 1\n",
    "\n",
    "  for epoch in range(n_epoch):\n",
    "    total = 0.0\n",
    "\n",
    "    for y, x in zip(Y, X):\n",
    "      yhat = model(x)\n",
    "\n",
    "      # https://stackoverflow.com/questions/57798033/valueerror-target-size-torch-size16-must-be-the-same-as-input-size-torch\n",
    "      loss = criterion(yhat, y)\n",
    "      loss.backward()\n",
    "\n",
    "      optimizer.step()\n",
    "      optimizer.zero_grad()\n",
    "\n",
    "      total += loss.item()\n",
    "\n",
    "    cost.append(total)\n",
    "\n",
    "  return cost\n",
    "\n"
   ]
  },
  {
   "cell_type": "code",
   "execution_count": null,
   "metadata": {},
   "outputs": [],
   "source": [
    "model = Net(1, 2, 1)\n",
    "\n",
    "plot_y_yhat(X, Y, model, 0, legend=True)\n",
    "\n"
   ]
  },
  {
   "cell_type": "code",
   "execution_count": null,
   "metadata": {},
   "outputs": [],
   "source": [
    "model.plot_activation(Y, X)\n",
    "\n"
   ]
  },
  {
   "cell_type": "code",
   "execution_count": null,
   "metadata": {},
   "outputs": [],
   "source": [
    "loss_list = train(\n",
    "    Y=Y, X=X, model=model,\n",
    "    optimizer=torch.optim.SGD(model.parameters(), lr=0.1),\n",
    "    criterion=torch.nn.BCELoss(),\n",
    "    n_epoch=1 # use 1000 to train\n",
    ")\n",
    "\n"
   ]
  },
  {
   "cell_type": "code",
   "execution_count": null,
   "metadata": {},
   "outputs": [],
   "source": [
    "if len(loss_list) > 10:\n",
    "  plot_y_yhat(X, Y, model, len(loss_list), legend=True)\n",
    "\n"
   ]
  },
  {
   "cell_type": "code",
   "execution_count": null,
   "metadata": {},
   "outputs": [],
   "source": [
    "if len(loss_list) > 10:\n",
    "  model.plot_activation(Y, X)\n",
    "\n"
   ]
  },
  {
   "cell_type": "code",
   "execution_count": null,
   "metadata": {},
   "outputs": [],
   "source": [
    "if len(loss_list) > 10:\n",
    "  plt.plot(loss_list)\n",
    "  plt.xlabel('epoch')\n",
    "  plt.ylabel('loss')\n",
    "  plt.grid(True)\n",
    "\n"
   ]
  },
  {
   "cell_type": "markdown",
   "metadata": {},
   "source": [
    "### 7.2 Neural Networks More Hidden Neurons\n",
    "\n"
   ]
  },
  {
   "cell_type": "markdown",
   "source": [
    "More complicated data\n",
    "\n"
   ],
   "metadata": {}
  },
  {
   "cell_type": "code",
   "source": [
    "X = torch.linspace(-20, 20, 41).view(-1, 1).type(torch.FloatTensor)\n",
    "Y = torch.zeros(X.shape[0])\n",
    "Y[\n",
    "    ((X[:, 0] > -10.0) & (X[:, 0] < -5.0))\n",
    "    | ((X[:, 0] > 5.0) & (X[:, 0] < 10.0))\n",
    "] = 1.0\n",
    "Y = Y.view(-1, 1)\n",
    "\n"
   ],
   "metadata": {},
   "execution_count": null,
   "outputs": []
  },
  {
   "cell_type": "markdown",
   "source": [
    "How would the previous model do?\n",
    "\n"
   ],
   "metadata": {}
  },
  {
   "cell_type": "code",
   "execution_count": null,
   "metadata": {},
   "outputs": [],
   "source": [
    "model = Net(1, 2, 1)\n",
    "\n",
    "plot_y_yhat(X, Y, model, 0, legend=True)\n",
    "\n"
   ]
  },
  {
   "cell_type": "code",
   "execution_count": null,
   "metadata": {},
   "outputs": [],
   "source": [
    "model.plot_activation(Y, X)\n",
    "\n"
   ]
  },
  {
   "cell_type": "code",
   "execution_count": null,
   "metadata": {},
   "outputs": [],
   "source": [
    "loss_list = train(\n",
    "    Y=Y, X=X, model=model,\n",
    "    optimizer=torch.optim.SGD(model.parameters(), lr=0.1),\n",
    "    criterion=torch.nn.BCELoss(),\n",
    "    n_epoch=1, # use 1000 to train\n",
    ")\n",
    "\n"
   ]
  },
  {
   "cell_type": "code",
   "execution_count": null,
   "metadata": {},
   "outputs": [],
   "source": [
    "if len(loss_list) > 10:\n",
    "  plot_y_yhat(X, Y, model, len(loss_list), legend=True)\n",
    "\n"
   ]
  },
  {
   "cell_type": "code",
   "execution_count": null,
   "metadata": {},
   "outputs": [],
   "source": [
    "if len(loss_list) > 10:\n",
    "  model.plot_activation(Y, X)\n",
    "\n"
   ]
  },
  {
   "cell_type": "code",
   "execution_count": null,
   "metadata": {},
   "outputs": [],
   "source": [
    "if len(loss_list) > 10:\n",
    "  plt.plot(loss_list)\n",
    "  plt.xlabel('epoch')\n",
    "  plt.ylabel('loss')\n",
    "  plt.grid(True)\n",
    "\n"
   ]
  },
  {
   "cell_type": "markdown",
   "source": [
    "Add more neurons to the hidden layer\n",
    "\n"
   ],
   "metadata": {}
  },
  {
   "cell_type": "code",
   "source": [
    "torch.manual_seed(0)\n",
    "model = Net(1, 9, 1)\n",
    "\n"
   ],
   "metadata": {},
   "execution_count": null,
   "outputs": []
  },
  {
   "cell_type": "markdown",
   "source": [
    "Define the dataset\n"
   ],
   "metadata": {}
  },
  {
   "cell_type": "code",
   "source": [
    "class Data(torch.utils.data.Dataset):\n",
    "  def __init__(self):\n",
    "    self.x = torch.linspace(-20, 20, 100).view(-1, 1).type(torch.FloatTensor)\n",
    "\n",
    "    self.y = torch.zeros(self.x.shape[0])\n",
    "    self.y[\n",
    "        ((self.x[:, 0] > -10.0) & (self.x[:, 0] < -5.0))\n",
    "        | ((self.x[:, 0] > 5.0) & (self.x[:, 0] < 10.0))\n",
    "    ] = 1.0\n",
    "\n",
    "    self.y = self.y.view(-1, 1)\n",
    "    self.len = self.x.shape[0]\n",
    "\n",
    "  def __getitem__(self, index):\n",
    "    return self.x[index], self.y[index]\n",
    "\n",
    "  def __len__(self):\n",
    "    return self.len\n",
    "\n",
    "  def plot_y_yhat(self, model, epoch, legend=True):\n",
    "    plot_y_yhat(self.x, self.y, model, epoch, legend=True)\n",
    "\n"
   ],
   "metadata": {},
   "execution_count": null,
   "outputs": []
  },
  {
   "cell_type": "code",
   "source": [
    "data_set = Data()\n",
    "data_set.plot_y_yhat(model, 0, legend=True)\n",
    "\n"
   ],
   "metadata": {},
   "execution_count": null,
   "outputs": []
  },
  {
   "cell_type": "code",
   "source": [
    "model.plot_activation(Y, X)\n",
    "\n"
   ],
   "metadata": {},
   "execution_count": null,
   "outputs": []
  },
  {
   "cell_type": "markdown",
   "source": [
    "train() function with `trainloader`\n",
    "\n"
   ],
   "metadata": {}
  },
  {
   "cell_type": "code",
   "source": [
    "def train(model, optimizer, criterion, train_loader, n_epoch=1000):\n",
    "  cost = []\n",
    "\n",
    "  if os.getenv('CI', False):\n",
    "    n_epoch = 1\n",
    "\n",
    "  for epoch in range(n_epoch):\n",
    "    total = 0.0\n",
    "\n",
    "    for x, y in train_loader:\n",
    "      optimizer.zero_grad()\n",
    "      yhat = model(x)\n",
    "\n",
    "      loss = criterion(yhat, y)\n",
    "      optimizer.zero_grad()\n",
    "      loss.backward()\n",
    "\n",
    "      optimizer.step()\n",
    "\n",
    "      total += loss.item()\n",
    "\n",
    "    cost.append(total)\n",
    "\n",
    "  return cost\n",
    "\n"
   ],
   "metadata": {},
   "execution_count": null,
   "outputs": []
  },
  {
   "cell_type": "code",
   "execution_count": null,
   "metadata": {},
   "outputs": [],
   "source": [
    "%%time\n",
    "loss_list = train(\n",
    "    model=model,\n",
    "    optimizer=torch.optim.Adam(model.parameters(), lr=0.01),\n",
    "    criterion=torch.nn.BCELoss(),\n",
    "    train_loader=torch.utils.data.DataLoader(dataset=data_set, batch_size=100),\n",
    "    n_epoch=1 # use 1000 to train\n",
    ")\n",
    "\n"
   ]
  },
  {
   "cell_type": "code",
   "execution_count": null,
   "metadata": {},
   "outputs": [],
   "source": [
    "if len(loss_list) > 10:\n",
    "  plot_y_yhat(X, Y, model, len(loss_list), legend=True)\n",
    "\n"
   ]
  },
  {
   "cell_type": "code",
   "execution_count": null,
   "metadata": {},
   "outputs": [],
   "source": [
    "if len(loss_list) > 10:\n",
    "  plt.plot(loss_list)\n",
    "  plt.xlabel('epoch')\n",
    "  plt.ylabel('loss')\n",
    "  plt.grid(True)\n",
    "\n"
   ]
  },
  {
   "cell_type": "markdown",
   "metadata": {},
   "source": [
    "### 7.3 Neural Networks with Multiple Dimensional Input\n",
    "\n"
   ]
  },
  {
   "cell_type": "code",
   "source": [
    "import matplotlib.pyplot as plt\n",
    "import matplotlib.colors as mc\n",
    "\n",
    "\n",
    "import torch\n",
    "import torch.nn\n",
    "import torch.utils.data\n",
    "\n"
   ],
   "metadata": {},
   "execution_count": null,
   "outputs": []
  },
  {
   "cell_type": "code",
   "source": [
    "torch.manual_seed(1)\n",
    "class XOR_Data(torch.utils.data.Dataset):\n",
    "\n",
    "  def __init__(self, N_s=100, noise=0.1):\n",
    "\n",
    "    self.x = torch.zeros((N_s, 2))\n",
    "    self.y = torch.zeros((N_s, 1))\n",
    "\n",
    "    Ns_4 = N_s // 4\n",
    "\n",
    "    for i in range(0, Ns_4):\n",
    "      self.x[i, :] = torch.Tensor([0.0, 0.0])\n",
    "      self.y[i, 0] = torch.Tensor([0.0])\n",
    "\n",
    "    for i in range(Ns_4, 2 * Ns_4):\n",
    "      self.x[i, :] = torch.Tensor([0.0, 1.0])\n",
    "      self.y[i, 0] = torch.Tensor([1.0])\n",
    "\n",
    "    for i in range(2 * Ns_4, 3 * Ns_4):\n",
    "      self.x[i, :] = torch.Tensor([1.0, 0.0])\n",
    "      self.y[i, 0] = torch.Tensor([1.0])\n",
    "\n",
    "    for i in range(3 * Ns_4, N_s):\n",
    "      self.x[i, :] = torch.Tensor([1.0, 1.0])\n",
    "      self.y[i, 0] = torch.Tensor([0.0])\n",
    "\n",
    "    self.x += noise * torch.randn((N_s, 2))\n",
    "    self.len = N_s\n",
    "\n",
    "  def __getitem__(self, index):\n",
    "    return self.x[index], self.y[index]\n",
    "\n",
    "  def __len__(self):\n",
    "    return self.len\n",
    "\n",
    "  def plot(self, model=None):\n",
    "    _, ax = plt.subplots(subplot_kw={\"projection\": \"3d\"})\n",
    "\n",
    "    ax.plot(\n",
    "      self.x[:, 0].numpy(),\n",
    "      self.x[:, 1].numpy(),\n",
    "      self.y[:, 0].numpy(),\n",
    "      '.',\n",
    "      label='data',\n",
    "    )\n",
    "\n",
    "    if model is not None:\n",
    "      yhat = model(self.x)\n",
    "      ax.plot(\n",
    "        self.x[:, 0].numpy(),\n",
    "        self.x[:, 1].numpy(),\n",
    "        yhat[:, 0].detach().numpy(),\n",
    "        '.',\n",
    "        label='model',\n",
    "      )\n",
    "\n",
    "    return ax\n",
    "\n"
   ],
   "metadata": {},
   "execution_count": null,
   "outputs": []
  },
  {
   "cell_type": "code",
   "source": [
    "data_set = XOR_Data()\n",
    "\n"
   ],
   "metadata": {},
   "execution_count": null,
   "outputs": []
  },
  {
   "cell_type": "markdown",
   "source": [
    "Plot of data\n",
    "\n"
   ],
   "metadata": {}
  },
  {
   "cell_type": "code",
   "source": [
    "ax = data_set.plot()\n",
    "\n"
   ],
   "metadata": {},
   "execution_count": null,
   "outputs": []
  },
  {
   "cell_type": "markdown",
   "source": [
    "Model\n",
    "\n"
   ],
   "metadata": {}
  },
  {
   "cell_type": "code",
   "source": [
    "model = Net(2, 4, 1)\n",
    "\n"
   ],
   "metadata": {},
   "execution_count": null,
   "outputs": []
  },
  {
   "cell_type": "code",
   "source": [
    "# from 7.3 lab\n",
    "import matplotlib.colors as mc\n",
    "import numpy as np\n",
    "\n",
    "\n",
    "def plot_decision_regions_2class(model,data_set):\n",
    "    cmap_light = mc.ListedColormap(['#FFAAAA', '#AAFFAA', '#00AAFF'])\n",
    "    cmap_bold = mc.ListedColormap(['#FF0000', '#00FF00', '#00AAFF'])\n",
    "    X = data_set.x.numpy()\n",
    "    y = data_set.y.numpy()\n",
    "    h = .02\n",
    "    x_min, x_max = X[:, 0].min() - 0.1 , X[:, 0].max() + 0.1\n",
    "    y_min, y_max = X[:, 1].min() - 0.1 , X[:, 1].max() + 0.1\n",
    "    xx, yy = np.meshgrid(np.arange(x_min, x_max, h),np.arange(y_min, y_max, h))\n",
    "    XX = torch.Tensor(np.c_[xx.ravel(), yy.ravel()])\n",
    "\n",
    "    yhat = np.logical_not((model(XX)[:, 0] > 0.5).numpy()).reshape(xx.shape)\n",
    "    plt.pcolormesh(xx, yy, yhat, cmap=cmap_light)\n",
    "    plt.plot(X[y[:, 0] == 0, 0], X[y[:, 0] == 0, 1], 'o', label='y=0')\n",
    "    plt.plot(X[y[:, 0] == 1, 0], X[y[:, 0] == 1, 1], 'ro', label='y=1')\n",
    "    plt.title(\"decision region\")\n",
    "    plt.legend()\n",
    "\n"
   ],
   "metadata": {},
   "execution_count": null,
   "outputs": []
  },
  {
   "cell_type": "markdown",
   "source": [
    "Before training\n",
    "\n"
   ],
   "metadata": {}
  },
  {
   "cell_type": "code",
   "source": [
    "ax = data_set.plot(model)\n",
    "\n"
   ],
   "metadata": {},
   "execution_count": null,
   "outputs": []
  },
  {
   "cell_type": "code",
   "source": [
    "plot_decision_regions_2class(model,data_set)\n",
    "\n"
   ],
   "metadata": {},
   "execution_count": null,
   "outputs": []
  },
  {
   "cell_type": "code",
   "source": [
    "%%time\n",
    "loss_list = train(\n",
    "    model=model,\n",
    "    optimizer=torch.optim.SGD(model.parameters(), lr=0.1),\n",
    "    criterion=torch.nn.BCELoss(),\n",
    "    train_loader=torch.utils.data.DataLoader(dataset=data_set, batch_size=1),\n",
    "    n_epoch=1 # use 500 to train\n",
    ")\n",
    "\n"
   ],
   "metadata": {},
   "execution_count": null,
   "outputs": []
  },
  {
   "cell_type": "markdown",
   "source": [
    "After training\n",
    "\n"
   ],
   "metadata": {}
  },
  {
   "cell_type": "code",
   "source": [
    "if len(loss_list) > 10:\n",
    "  plt.plot(loss_list)\n",
    "  plt.xlabel('epoch')\n",
    "  plt.ylabel('loss')\n",
    "  plt.grid(True)\n",
    "\n"
   ],
   "metadata": {},
   "execution_count": null,
   "outputs": []
  },
  {
   "cell_type": "code",
   "source": [
    "ax = data_set.plot(model)\n",
    "\n"
   ],
   "metadata": {},
   "execution_count": null,
   "outputs": []
  },
  {
   "cell_type": "code",
   "source": [
    "plot_decision_regions_2class(model,data_set)\n",
    "\n"
   ],
   "metadata": {},
   "execution_count": null,
   "outputs": []
  },
  {
   "cell_type": "markdown",
   "metadata": {},
   "source": [
    "### 7.4 Multi-Class Neural Networks\n",
    "\n"
   ]
  },
  {
   "cell_type": "markdown",
   "source": [
    "Pass the result of the last layer without `sigmoid()` function\n",
    "\n"
   ],
   "metadata": {}
  },
  {
   "cell_type": "code",
   "source": [
    "class MultilcassNet(Net):\n",
    "  def __init__(self, *argv, **kwarg):\n",
    "    super(MultilcassNet, self).__init__(*argv, **kwarg)\n",
    "\n",
    "  def forward(self, x):\n",
    "    for layer in self.linears[:-1]:\n",
    "      x = torch.sigmoid(layer(x))\n",
    "\n",
    "    return self.linears[-1](x)\n",
    "\n"
   ],
   "metadata": {},
   "execution_count": null,
   "outputs": []
  },
  {
   "cell_type": "code",
   "source": [
    "model = Net(2, 3, 2)\n",
    "\n"
   ],
   "metadata": {},
   "execution_count": null,
   "outputs": []
  },
  {
   "cell_type": "markdown",
   "source": [
    "Sequential version\n",
    "\n"
   ],
   "metadata": {}
  },
  {
   "cell_type": "code",
   "source": [
    "def build_sequential(in_dim:int, h:int, out_dim:int):\n",
    "  return torch.nn.Sequential(\n",
    "    torch.nn.Linear(in_dim, h),\n",
    "    torch.nn.Sigmoid(),\n",
    "    torch.nn.Linear(h, out_dim),\n",
    "  )\n",
    "\n"
   ],
   "metadata": {},
   "execution_count": null,
   "outputs": []
  },
  {
   "cell_type": "markdown",
   "source": [
    "Data\n",
    "\n"
   ],
   "metadata": {}
  },
  {
   "cell_type": "code",
   "source": [
    "@functools.lru_cache\n",
    "def load_MNIST_torchvision(root:str='./data'):\n",
    "  '''\n",
    "  [[image, class], ...]\n",
    "  '''\n",
    "\n",
    "  train_dataset = torchvision.datasets.MNIST(\n",
    "      root=root,\n",
    "      train=True,\n",
    "      download=True,\n",
    "      transform=torchvision.transforms.ToTensor(),\n",
    "  )\n",
    "\n",
    "  test_dataset = torchvision.datasets.MNIST(\n",
    "      root=root,\n",
    "      train=False,\n",
    "      download=True,\n",
    "      transform=torchvision.transforms.ToTensor(),\n",
    "  )\n",
    "\n",
    "  return {\n",
    "      'train': train_dataset,\n",
    "      'validation': test_dataset,\n",
    "  }\n",
    "\n"
   ],
   "metadata": {},
   "execution_count": null,
   "outputs": []
  },
  {
   "cell_type": "code",
   "source": [
    "d_mnist = load_MNIST_torchvision()\n",
    "x0, y0 = random.choice(d_mnist['train'])\n",
    "x0 = np.squeeze(x0)\n",
    "ax = plt.imshow(np.squeeze(x0))\n",
    "plt.title(f'x0.shape = {x0.shape}, y = {y0}');\n",
    "\n"
   ],
   "metadata": {},
   "execution_count": null,
   "outputs": []
  },
  {
   "cell_type": "code",
   "source": [
    "train_loader = torch.utils.data.DataLoader(\n",
    "    dataset=d_mnist['train'], batch_size=2000,\n",
    ")\n",
    "\n",
    "validation_loader = torch.utils.data.DataLoader(\n",
    "    dataset=d_mnist['validation'], batch_size=5000,\n",
    ")\n",
    "\n"
   ],
   "metadata": {},
   "execution_count": null,
   "outputs": []
  },
  {
   "cell_type": "code",
   "source": [
    "def train_validate(\n",
    "    model, optimizer, criterion,\n",
    "    train_loader, validation_loader,\n",
    "    n_epoch:int=1000,\n",
    "  ):\n",
    "  record = {\n",
    "    'training_loss': [],\n",
    "    'validation_accuracy': [],\n",
    "  }\n",
    "\n",
    "  if os.getenv('CI', False):\n",
    "    n_epoch = 1\n",
    "\n",
    "  for epoch in range(n_epoch):\n",
    "    total = 0.0\n",
    "\n",
    "    for x, y in train_loader:\n",
    "      optimizer.zero_grad()\n",
    "\n",
    "      yhat = model(x.view(-1, 28*28))\n",
    "\n",
    "      loss = criterion(yhat, y)\n",
    "      optimizer.zero_grad()\n",
    "      loss.backward()\n",
    "\n",
    "      optimizer.step()\n",
    "\n",
    "      total += loss.item()\n",
    "\n",
    "      record['training_loss'].append(loss.item())\n",
    "\n",
    "    # end train_loader loop\n",
    "\n",
    "    correct = 0\n",
    "    population = 0\n",
    "    for x, y in validation_loader:\n",
    "      z = model(x.view(-1, 28*28))\n",
    "      _, label = torch.max(z, 1)\n",
    "      correct += (label==y).sum().item()\n",
    "      population += len(y)\n",
    "    # end validation_loader loop\n",
    "    accuracy = 100.0 * (correct / population)\n",
    "    record['validation_accuracy'].append(accuracy)\n",
    "\n",
    "  # end epoch loop\n",
    "  return record\n",
    "\n"
   ],
   "metadata": {},
   "execution_count": null,
   "outputs": []
  },
  {
   "cell_type": "code",
   "source": [
    "input_dim = 28 * 28\n",
    "n_hidden = 100\n",
    "n_class = 10\n",
    "model = MultilcassNet(input_dim, n_hidden, n_class)\n",
    "\n",
    "criterion = torch.nn.CrossEntropyLoss()\n",
    "optimizer = torch.optim.SGD(model.parameters(), lr=0.01)\n",
    "\n",
    "training_results = train_validate(\n",
    "    model, optimizer, criterion,\n",
    "    train_loader, validation_loader,\n",
    "    n_epoch=30\n",
    ")\n",
    "\n"
   ],
   "metadata": {},
   "execution_count": null,
   "outputs": []
  },
  {
   "cell_type": "code",
   "source": [
    "plt.subplot(2, 1, 1)\n",
    "plt.plot(training_results['training_loss'])\n",
    "plt.xlabel('iter')\n",
    "plt.grid(True)\n",
    "\n",
    "plt.subplot(2, 1, 2)\n",
    "plt.plot(training_results['validation_accuracy'])\n",
    "plt.xlabel('epoch')\n",
    "plt.grid(True)\n",
    "\n"
   ],
   "metadata": {},
   "execution_count": null,
   "outputs": []
  },
  {
   "cell_type": "markdown",
   "metadata": {},
   "source": [
    "### 7.5 Backpropagation\n",
    "\n"
   ]
  },
  {
   "cell_type": "markdown",
   "metadata": {},
   "source": [
    "### 7.6 Activation Function\n",
    "\n"
   ]
  },
  {
   "cell_type": "code",
   "source": [
    "class MultilcassNetAct(MultilcassNet):\n",
    "  def __init__(self, *argv, **kwarg):\n",
    "    super(MultilcassNetAct, self).__init__(*argv, **kwarg)\n",
    "    self.act = kwarg.get('act', torch.nn.ReLU())\n",
    "\n",
    "  def forward(self, x):\n",
    "    for layer in self.linears[:-1]:\n",
    "      x = self.act(layer(x))\n",
    "\n",
    "    return self.linears[-1](x)\n",
    "\n"
   ],
   "metadata": {},
   "execution_count": null,
   "outputs": []
  },
  {
   "cell_type": "code",
   "source": [
    "def build_sequential_act(in_dim:int, h:int, out_dim:int, act:Callable=torch.relu):\n",
    "  return torch.nn.Sequential(\n",
    "    torch.nn.Linear(in_dim, h),\n",
    "    act(),\n",
    "    torch.nn.Linear(h, out_dim),\n",
    "  )\n",
    "\n"
   ],
   "metadata": {},
   "execution_count": null,
   "outputs": []
  },
  {
   "cell_type": "code",
   "source": [
    "input_dim = 28 * 28\n",
    "n_hidden = 100\n",
    "n_class = 10\n",
    "\n",
    "criterion = torch.nn.CrossEntropyLoss()\n",
    "\n"
   ],
   "metadata": {},
   "execution_count": null,
   "outputs": []
  },
  {
   "cell_type": "code",
   "source": [
    "model_tanh = MultilcassNetAct(\n",
    "    input_dim, n_hidden, n_class,\n",
    "    act=torch.nn.Tanh(),\n",
    ")\n",
    "\n",
    "optimizer = torch.optim.SGD(model_tanh.parameters(), lr=0.01)\n",
    "\n",
    "training_results_tanh = train_validate(\n",
    "    model_tanh, optimizer, criterion,\n",
    "    train_loader, validation_loader,\n",
    "    n_epoch=30\n",
    ")\n",
    "\n"
   ],
   "metadata": {},
   "execution_count": null,
   "outputs": []
  },
  {
   "cell_type": "code",
   "source": [
    "plt.subplot(2, 1, 1)\n",
    "plt.plot(training_results['training_loss'], label='sigmoid')\n",
    "plt.plot(training_results_tanh['training_loss'], label='tanh')\n",
    "plt.xlabel('iter')\n",
    "plt.legend(loc=0)\n",
    "plt.grid(True)\n",
    "\n",
    "\n",
    "plt.subplot(2, 1, 2)\n",
    "plt.plot(training_results['validation_accuracy'], label='sigmoid')\n",
    "plt.plot(training_results_tanh['validation_accuracy'], label='tanh')\n",
    "plt.xlabel('epoch')\n",
    "plt.legend(loc=0)\n",
    "plt.grid(True)\n",
    "\n"
   ],
   "metadata": {},
   "execution_count": null,
   "outputs": []
  },
  {
   "cell_type": "code",
   "source": [
    "model_relu = MultilcassNetAct(\n",
    "    input_dim, n_hidden, n_class,\n",
    "    act=torch.nn.ReLU(),\n",
    ")\n",
    "\n",
    "optimizer = torch.optim.SGD(model_relu.parameters(), lr=0.01)\n",
    "\n",
    "training_results_relu = train_validate(\n",
    "    model_relu, optimizer, criterion,\n",
    "    train_loader, validation_loader,\n",
    "    n_epoch=30\n",
    ")\n",
    "\n"
   ],
   "metadata": {},
   "execution_count": null,
   "outputs": []
  },
  {
   "cell_type": "code",
   "source": [
    "plt.subplot(2, 1, 1)\n",
    "plt.plot(training_results['training_loss'], label='sigmoid')\n",
    "plt.plot(training_results_tanh['training_loss'], label='tanh')\n",
    "plt.plot(training_results_relu['training_loss'], label='relu')\n",
    "plt.xlabel('iter')\n",
    "plt.legend(loc=0)\n",
    "plt.grid(True)\n",
    "\n",
    "plt.subplot(2, 1, 2)\n",
    "plt.plot(training_results['validation_accuracy'], label='sigmoid')\n",
    "plt.plot(training_results_tanh['validation_accuracy'], label='tanh')\n",
    "plt.plot(training_results_relu['validation_accuracy'], label='relu')\n",
    "plt.xlabel('epoch')\n",
    "plt.legend(loc=0)\n",
    "plt.grid(True)\n",
    "\n"
   ],
   "metadata": {},
   "execution_count": null,
   "outputs": []
  },
  {
   "cell_type": "code",
   "execution_count": null,
   "metadata": {},
   "outputs": [],
   "source": []
  }
 ],
 "metadata": {
  "colab": {
   "provenance": [],
   "include_colab_link": true
  },
  "kernelspec": {
   "display_name": "Python 3 (ipykernel)",
   "language": "python",
   "name": "python3"
  },
  "language_info": {
   "codemirror_mode": {
    "name": "ipython",
    "version": 3
   },
   "file_extension": ".py",
   "mimetype": "text/x-python",
   "name": "python",
   "nbconvert_exporter": "python",
   "pygments_lexer": "ipython3",
   "version": "3.10.13"
  }
 },
 "nbformat": 4,
 "nbformat_minor": 0
}