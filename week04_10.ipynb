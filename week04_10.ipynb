{
 "cells": [
  {
   "cell_type": "markdown",
   "metadata": {
    "id": "view-in-github",
    "colab_type": "text"
   },
   "source": [
    "<a href=\"https://colab.research.google.com/github/kangwonlee/pytorch-ibm-coursera/blob/main/week04_10.ipynb\" target=\"_parent\"><img src=\"https://colab.research.google.com/assets/colab-badge.svg\" alt=\"Open In Colab\"/></a>\n"
   ]
  },
  {
   "cell_type": "markdown",
   "metadata": {},
   "source": [
    "# Hello PyTorch 👋🏻\n",
    "\n"
   ]
  },
  {
   "cell_type": "markdown",
   "metadata": {},
   "source": [
    "references\n",
    "* https://www.coursera.org/learn/deep-neural-networks-with-pytorch/\n",
    "* https://github.com/damounayman/Deep-Neural-Networks-with-PyTorch/blob/main/Week1/1D_tensors.ipynb\n",
    "\n"
   ]
  },
  {
   "cell_type": "markdown",
   "metadata": {},
   "source": [
    "## week 4\n",
    "\n"
   ]
  },
  {
   "cell_type": "markdown",
   "metadata": {},
   "source": [
    "## Shallow Neural Networks\n",
    "\n"
   ]
  },
  {
   "cell_type": "markdown",
   "metadata": {},
   "source": [
    "### 7.1 Neural Networks in One Dimension\n",
    "\n"
   ]
  },
  {
   "cell_type": "code",
   "execution_count": null,
   "metadata": {},
   "outputs": [],
   "source": [
    "import os\n",
    "\n",
    "\n",
    "import matplotlib.pyplot as plt\n",
    "import torch\n",
    "import torch.nn as nn\n",
    "\n"
   ]
  },
  {
   "cell_type": "code",
   "execution_count": null,
   "metadata": {},
   "outputs": [],
   "source": [
    "torch.manual_seed(0)\n",
    "\n",
    "\n",
    "class Net(torch.nn.Module):\n",
    "  def __init__(self, *argv, **kwarg):\n",
    "    super(Net, self).__init__()\n",
    "\n",
    "    self.linears = torch.nn.ModuleList([])\n",
    "    for n_in, n_out in (argv[:-1], argv[1:]):\n",
    "      self.linears.append(torch.nn.Linear(n_in, n_out))\n",
    "\n",
    "  def forward(self, x):\n",
    "\n",
    "    for layer in self.linears:\n",
    "      x = torch.sigmoid(layer(x))\n",
    "\n",
    "    return x\n",
    "\n",
    "  def plot_activation(self, Y, X):\n",
    "      a1 = torch.sigmoid(self.linears[0](X))\n",
    "      plt.scatter(\n",
    "          a1.detach().numpy()[:, 0],\n",
    "          a1.detach().numpy()[:, 1],\n",
    "          c=Y.numpy().reshape(-1)\n",
    "      )\n",
    "      plt.title('activations')\n",
    "      plt.grid(True)\n",
    "\n",
    "\n",
    "# https://pytorch.org/docs/stable/generated/torch.nn.ModuleList.html\n",
    "# https://stackoverflow.com/questions/50463975/pytorch-how-to-properly-create-a-list-of-nn-linear\n",
    "# https://discuss.pytorch.org/t/when-should-i-use-nn-modulelist-and-when-should-i-use-nn-sequential/5463\n",
    "\n"
   ]
  },
  {
   "cell_type": "markdown",
   "metadata": {},
   "source": [
    "* 1 input node\n",
    "* two nodes in the input layer\n",
    "* one node on the output layer\n",
    "\n"
   ]
  },
  {
   "cell_type": "markdown",
   "metadata": {},
   "source": [
    "$$\n",
    "\\begin{align}\n",
    "z_{N \\times 2}^1&=x_{N \\times 1}^1W_{1 \\times 2}^1+b_{N \\times 2}^1 \\\\\n",
    "x_{N \\times 2}^2&=\\sigma(z_{N \\times 2}^1) \\\\\n",
    "z_{N \\times 1}^2&=x_{N \\times 2}^2W_{2 \\times 1}^2+b_{N \\times 1}^2 \\\\\n",
    "y_{N \\times 1}&=\\sigma(z_{N \\times 1}^2)\n",
    "\\end{align}\n",
    "$$\n",
    "\n"
   ]
  },
  {
   "cell_type": "code",
   "execution_count": null,
   "metadata": {},
   "outputs": [],
   "source": [
    "model = Net(1, 2, 1)\n",
    "\n",
    "x = torch.tensor([0.0])\n",
    "\n",
    "yhat = model(x)\n",
    "yhat\n",
    "\n"
   ]
  },
  {
   "cell_type": "code",
   "execution_count": null,
   "metadata": {},
   "outputs": [],
   "source": [
    "model.state_dict()\n",
    "\n"
   ]
  },
  {
   "cell_type": "markdown",
   "metadata": {},
   "source": [
    "Sequential version\n",
    "\n"
   ]
  },
  {
   "cell_type": "code",
   "execution_count": null,
   "metadata": {},
   "outputs": [],
   "source": [
    "torch.manual_seed(1)\n",
    "\n",
    "model = torch.nn.Sequential(\n",
    "    torch.nn.Linear(1, 2),\n",
    "    torch.nn.Sigmoid(),\n",
    "    torch.nn.Linear(2, 1),\n",
    "    torch.nn.Sigmoid(),\n",
    ")\n",
    "\n",
    "x = torch.tensor([0.0])\n",
    "\n",
    "yhat = model(x)\n",
    "\n",
    "yhat\n",
    "\n"
   ]
  },
  {
   "cell_type": "code",
   "execution_count": null,
   "metadata": {},
   "outputs": [],
   "source": [
    "x = torch.tensor([\n",
    "    [0.0],\n",
    "    [1.0],\n",
    "    [2.0],\n",
    "  ])\n",
    "\n",
    "yhat = model(x)\n",
    "\n",
    "yhat\n",
    "\n"
   ]
  },
  {
   "cell_type": "code",
   "execution_count": null,
   "metadata": {},
   "outputs": [],
   "source": [
    "model.state_dict()\n",
    "\n"
   ]
  },
  {
   "cell_type": "markdown",
   "metadata": {},
   "source": [
    "Train the model\n",
    "\n"
   ]
  },
  {
   "cell_type": "code",
   "execution_count": null,
   "metadata": {},
   "outputs": [],
   "source": [
    "X = torch.linspace(-20, 20, 41).view(-1, 1).type(torch.FloatTensor)\n",
    "Y = torch.zeros(X.shape[0])\n",
    "Y[\n",
    "    (X[:, 0] > -4.0) & (X[:, 0] < 4.0)\n",
    "] = 1.0\n",
    "\n"
   ]
  },
  {
   "cell_type": "code",
   "execution_count": null,
   "metadata": {},
   "outputs": [],
   "source": [
    "def plot_y_yhat(X, Y, model, epoch, legend=True):\n",
    "    plt.plot(\n",
    "        X.numpy(), model(X).detach().numpy(),\n",
    "        label=('epoch '+str(epoch))\n",
    "    )\n",
    "    plt.plot(X.numpy(), Y.numpy(), 'r')\n",
    "    plt.xlabel('x')\n",
    "    if legend:\n",
    "      plt.legend(loc=0)\n",
    "    plt.grid(True)\n",
    "\n"
   ]
  },
  {
   "cell_type": "code",
   "execution_count": null,
   "metadata": {},
   "outputs": [],
   "source": [
    "def train(Y, X, model, optimizer, criterion, n_epoch=1000):\n",
    "  cost = []\n",
    "  total = 0\n",
    "\n",
    "  if os.environ.get('CI', False):\n",
    "    n_epoch = 1\n",
    "\n",
    "  for epoch in range(n_epoch):\n",
    "    total = 0.0\n",
    "\n",
    "    for y, x in zip(Y, X):\n",
    "      yhat = model(x)\n",
    "\n",
    "      y = y.unsqueeze(-1)\n",
    "      # https://stackoverflow.com/questions/57798033/valueerror-target-size-torch-size16-must-be-the-same-as-input-size-torch\n",
    "      loss = criterion(yhat, y)\n",
    "      loss.backward()\n",
    "\n",
    "      optimizer.step()\n",
    "      optimizer.zero_grad()\n",
    "\n",
    "      total += loss.item()\n",
    "\n",
    "    cost.append(total)\n",
    "\n",
    "  return cost\n",
    "\n"
   ]
  },
  {
   "cell_type": "code",
   "execution_count": null,
   "metadata": {},
   "outputs": [],
   "source": [
    "model = Net(1, 2, 1)\n",
    "\n",
    "plot_y_yhat(X, Y, model, 0, legend=True)\n",
    "\n"
   ]
  },
  {
   "cell_type": "code",
   "execution_count": null,
   "metadata": {},
   "outputs": [],
   "source": [
    "model.plot_activation(Y, X)\n",
    "\n"
   ]
  },
  {
   "cell_type": "code",
   "execution_count": null,
   "metadata": {},
   "outputs": [],
   "source": [
    "loss_list = train(\n",
    "    Y=Y, X=X, model=model,\n",
    "    optimizer=torch.optim.SGD(model.parameters(), lr=0.1),\n",
    "    criterion=torch.nn.BCELoss(),\n",
    "    n_epoch=1 # use 1000 to train\n",
    ")\n",
    "\n"
   ]
  },
  {
   "cell_type": "code",
   "execution_count": null,
   "metadata": {},
   "outputs": [],
   "source": [
    "plot_y_yhat(X, Y, model, len(loss_list), legend=True)\n",
    "\n"
   ]
  },
  {
   "cell_type": "code",
   "execution_count": null,
   "metadata": {},
   "outputs": [],
   "source": [
    "model.plot_activation(Y, X)\n",
    "\n"
   ]
  },
  {
   "cell_type": "code",
   "execution_count": null,
   "metadata": {},
   "outputs": [],
   "source": [
    "plt.plot(loss_list)\n",
    "plt.xlabel('epoch')\n",
    "plt.ylabel('loss')\n",
    "plt.grid(True)\n",
    "\n"
   ]
  },
  {
   "cell_type": "markdown",
   "metadata": {},
   "source": [
    "### 7.2 Neural Networks More Hidden Neurons\n",
    "\n"
   ]
  },
  {
   "cell_type": "markdown",
   "source": [
    "More complicated data\n",
    "\n"
   ],
   "metadata": {}
  },
  {
   "cell_type": "code",
   "source": [
    "X = torch.linspace(-20, 20, 41).view(-1, 1).type(torch.FloatTensor)\n",
    "Y = torch.zeros(X.shape[0])\n",
    "Y[\n",
    "    ((X[:, 0] > -10.0) & (X[:, 0] < -5.0))\n",
    "    | ((X[:, 0] > 5.0) & (X[:, 0] < 10.0))\n",
    "] = 1.0\n",
    "\n"
   ],
   "metadata": {},
   "execution_count": null,
   "outputs": []
  },
  {
   "cell_type": "code",
   "execution_count": null,
   "metadata": {},
   "outputs": [],
   "source": [
    "model = Net(1, 2, 1)\n",
    "\n",
    "plot_y_yhat(X, Y, model, 0, legend=True)\n",
    "\n"
   ]
  },
  {
   "cell_type": "code",
   "execution_count": null,
   "metadata": {},
   "outputs": [],
   "source": [
    "model.plot_activation(Y, X)\n",
    "\n"
   ]
  },
  {
   "cell_type": "code",
   "execution_count": null,
   "metadata": {},
   "outputs": [],
   "source": [
    "loss_list = train(\n",
    "    Y=Y, X=X, model=model,\n",
    "    optimizer=torch.optim.SGD(model.parameters(), lr=0.1),\n",
    "    criterion=torch.nn.BCELoss(),\n",
    "    n_epoch=1000,\n",
    ")\n",
    "\n"
   ]
  },
  {
   "cell_type": "code",
   "execution_count": null,
   "metadata": {},
   "outputs": [],
   "source": [
    "plot_y_yhat(X, Y, model, len(loss_list), legend=True)\n",
    "\n"
   ]
  },
  {
   "cell_type": "code",
   "execution_count": null,
   "metadata": {},
   "outputs": [],
   "source": [
    "model.plot_activation(Y, X)\n",
    "\n"
   ]
  },
  {
   "cell_type": "code",
   "execution_count": null,
   "metadata": {},
   "outputs": [],
   "source": [
    "plt.plot(loss_list)\n",
    "plt.xlabel('epoch')\n",
    "plt.ylabel('loss')\n",
    "plt.grid(True)\n",
    "\n"
   ]
  },
  {
   "cell_type": "markdown",
   "metadata": {},
   "source": [
    "### 7.3 Neural Networks with Multiple Dimensional Input\n",
    "\n"
   ]
  },
  {
   "cell_type": "markdown",
   "metadata": {},
   "source": [
    "### 7.4 Multi-Class Neural Networks\n",
    "\n"
   ]
  },
  {
   "cell_type": "markdown",
   "metadata": {},
   "source": [
    "### 7.5 Backpropagation\n",
    "\n"
   ]
  },
  {
   "cell_type": "markdown",
   "metadata": {},
   "source": [
    "### 7.6 Activation Function\n",
    "\n"
   ]
  },
  {
   "cell_type": "code",
   "execution_count": null,
   "metadata": {},
   "outputs": [],
   "source": []
  }
 ],
 "metadata": {
  "colab": {
   "provenance": [],
   "include_colab_link": true
  },
  "kernelspec": {
   "display_name": "Python 3 (ipykernel)",
   "language": "python",
   "name": "python3"
  },
  "language_info": {
   "codemirror_mode": {
    "name": "ipython",
    "version": 3
   },
   "file_extension": ".py",
   "mimetype": "text/x-python",
   "name": "python",
   "nbconvert_exporter": "python",
   "pygments_lexer": "ipython3",
   "version": "3.10.13"
  }
 },
 "nbformat": 4,
 "nbformat_minor": 0
}